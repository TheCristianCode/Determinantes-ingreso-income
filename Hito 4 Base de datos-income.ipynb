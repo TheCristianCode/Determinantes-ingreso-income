{
 "cells": [
  {
   "cell_type": "code",
   "execution_count": null,
   "metadata": {},
   "outputs": [],
   "source": [
    "Nombre: Cristian Valdés Encina\n",
    "\n",
    "Generación: G42\n",
    "\n",
    "Profesores: Heriberto García- Juan Pablo Ramírez\n",
    "\n",
    "Hito 4 - Base de datos income-db.csv. "
   ]
  },
  {
   "cell_type": "markdown",
   "metadata": {},
   "source": [
    "Una sección llamada Descripción donde se generará un análisis descriptivo considerando el tipo de variables (desde el punto de vista estadístico así como computacional). Esta sección debe considerar medidas univariadas/ frecuencias, datos perdidos y gráficos distributivos sobre las variables a analizar. A partir de ésta se debe clarificar la estrategia de preprocesamiento (datos perdidos, recodificaciones)."
   ]
  },
  {
   "cell_type": "markdown",
   "metadata": {},
   "source": [
    "# Preprocesamiento de los datos "
   ]
  },
  {
   "cell_type": "code",
   "execution_count": null,
   "metadata": {},
   "outputs": [],
   "source": [
    "Aspectos adicionales a considerar:\n",
    "\n",
    "● La base de datos contiene los valores perdidos como ? . Deberá transformarlos para\n",
    "poder trabajar de forma adecuada.\n",
    "\n",
    "● Desde la organización le sugieren que debe recodificar las siguientes variables\n",
    "acorde a las siguientes nomenclaturas:\n",
    "\n",
    "○ occupation debe recodificarse como collars siguiendo una nomenclatura\n",
    "similar a:\n",
    "■ white-collar ← Prof-specialty, Exec-managerial, Adm-clerical,\n",
    "Sales, Tech-support.\n",
    "■ blue-collar ← Craft-repair, Machine-op-inspct, Transport-moving,\n",
    "Handlers-cleaners, Farming-fishing, Protective-serv, Priv-house-serv.\n",
    "■ others ← Other-service, Armed-Forces.\n",
    "\n",
    "○ workclass debe recodificarse como workclass_recod siguiendo una\n",
    "nomenclatura similar a :\n",
    "■ federal-gov ← Federal-gov.\n",
    "■ state-level-gov ← State-gov, Local-gov.\n",
    "■ self-employed ← Self-emp-inc, Self-emp-not-inc\n",
    "■ unemployed ← Never-worked, Without-pay.\n",
    "\n",
    "○ education debe recodificarse como educ_recod siguiendo una\n",
    "nomenclatura similar a :\n",
    "■ preschool ← Preschool\n",
    "■ elementary-school ← 1st-4th, 5th-6th\n",
    "■ high-school ← 7th-8th, 9th, 10th,11th, 12th, HS-grad\n",
    "■ college ← Assoc-voc, Assoc-acdm, Some-college\n",
    "■ university ← Bachelors, Masters, Prof-school, Doctorate.\n",
    "\n",
    "○ marital-status debe recodificarse como civstatus siguiendo una\n",
    "nomenclatura similar a :\n",
    "■ married ← Married-civ-spouse, Married-spouse-absent,\n",
    "Married-AF-spouse.\n",
    "■ divorced ← Divorced.\n",
    "■ separated ← Separated.\n",
    "■ widowed ← Widowed.\n",
    "\n",
    "○ native-country debe recodificarse como region donde cada país debe\n",
    "asignarse a uno de los 5 continentes.\n",
    "\n",
    "○ income debe recodificarse de forma binaria."
   ]
  },
  {
   "cell_type": "code",
   "execution_count": 1,
   "metadata": {},
   "outputs": [],
   "source": [
    "#librerías manipulacion de preprocesamiento y visualización datos y gráficos\n",
    "import pandas as pd\n",
    "import numpy as np\n",
    "import matplotlib.pyplot as plt\n",
    "import seaborn as sns\n",
    "from scipy import stats\n",
    "\n",
    "#librerías de regresión lineal y modelación econométrica\n",
    "from sklearn.linear_model import LinearRegression\n",
    "from sklearn.metrics import mean_squared_error, r2_score\n",
    "from sklearn.model_selection import train_test_split\n",
    "import statsmodels.api as sm\n",
    "import statsmodels.formula.api as smf\n",
    "\n",
    "# Importe de métricas para análisis del modelo utilizando machine learning\n",
    "from sklearn.metrics import accuracy_score\n",
    "from sklearn.metrics import precision_score\n",
    "from sklearn.metrics import recall_score\n",
    "from sklearn.metrics import f1_score\n",
    "from sklearn.preprocessing import StandardScaler\n",
    "\n",
    "#Métricas de evaluación del modelo utilizando machine learning\n",
    "from sklearn.metrics import classification_report\n",
    "from sklearn.metrics import roc_curve\n",
    "from sklearn.metrics import roc_auc_score\n",
    "from sklearn.metrics import confusion_matrix\n",
    "\n",
    "\n",
    "# Módulos para análisis de dimensionalidad\n",
    "import factor_analyzer as factor\n",
    "import missingno as msgn\n",
    "\n",
    "#Especificaciones\n",
    "import warnings\n",
    "warnings.filterwarnings(action=\"ignore\")\n",
    "plt.style.use(\"seaborn-whitegrid\")"
   ]
  },
  {
   "cell_type": "code",
   "execution_count": 920,
   "metadata": {},
   "outputs": [],
   "source": [
    "df = pd.read_csv(\"income-db.csv\")"
   ]
  },
  {
   "cell_type": "code",
   "execution_count": 921,
   "metadata": {},
   "outputs": [
    {
     "data": {
      "text/plain": [
       "Private             33906\n",
       "Self-emp-not-inc     3862\n",
       "Local-gov            3136\n",
       "?                    2799\n",
       "State-gov            1981\n",
       "Self-emp-inc         1695\n",
       "Federal-gov          1432\n",
       "Without-pay            21\n",
       "Never-worked           10\n",
       "Name: workclass, dtype: int64"
      ]
     },
     "execution_count": 921,
     "metadata": {},
     "output_type": "execute_result"
    }
   ],
   "source": [
    "df[\"workclass\"].value_counts()"
   ]
  },
  {
   "cell_type": "markdown",
   "metadata": {},
   "source": [
    "# Cambio de los datos pérdidos por NAN"
   ]
  },
  {
   "cell_type": "code",
   "execution_count": 922,
   "metadata": {},
   "outputs": [],
   "source": [
    "df[\"workclass\"] = df[\"workclass\"].replace(\"?\", np.nan)"
   ]
  },
  {
   "cell_type": "code",
   "execution_count": 923,
   "metadata": {},
   "outputs": [],
   "source": [
    "df[\"native-country\"] = df[\"native-country\"].replace(\"?\", np.nan)"
   ]
  },
  {
   "cell_type": "code",
   "execution_count": 924,
   "metadata": {},
   "outputs": [],
   "source": [
    "df[\"occupation\"] = df[\"occupation\"].replace(\"?\", np.nan)"
   ]
  },
  {
   "cell_type": "code",
   "execution_count": 925,
   "metadata": {},
   "outputs": [],
   "source": [
    "df = df.dropna(subset=[\"workclass\"])# eliminacion de los datos perdidos de la columna workclass"
   ]
  },
  {
   "cell_type": "code",
   "execution_count": 926,
   "metadata": {},
   "outputs": [
    {
     "data": {
      "text/plain": [
       "(46043, 15)"
      ]
     },
     "execution_count": 926,
     "metadata": {},
     "output_type": "execute_result"
    }
   ],
   "source": [
    "df.shape # comprobación eliminacion de columnas nan, correspondiente a workclass"
   ]
  },
  {
   "cell_type": "code",
   "execution_count": 927,
   "metadata": {},
   "outputs": [],
   "source": [
    "df = df.dropna(subset=[\"native-country\"])#eliminacion de los datos perdidos de la columna native-country"
   ]
  },
  {
   "cell_type": "code",
   "execution_count": 928,
   "metadata": {},
   "outputs": [
    {
     "data": {
      "text/plain": [
       "(45232, 15)"
      ]
     },
     "execution_count": 928,
     "metadata": {},
     "output_type": "execute_result"
    }
   ],
   "source": [
    "df.shape# comprobación eliminación de columnas nan, correspondiente a \"native-country\""
   ]
  },
  {
   "cell_type": "code",
   "execution_count": 929,
   "metadata": {},
   "outputs": [],
   "source": [
    "df = df.dropna(subset=[\"occupation\"])#eliminacion de los datos perdidos de la columna occupation"
   ]
  },
  {
   "cell_type": "code",
   "execution_count": 930,
   "metadata": {},
   "outputs": [
    {
     "data": {
      "text/plain": [
       "(45222, 15)"
      ]
     },
     "execution_count": 930,
     "metadata": {},
     "output_type": "execute_result"
    }
   ],
   "source": [
    "df.shape# comprobación de eliminación de columnas nan, correspondiente a \"ocupation\""
   ]
  },
  {
   "cell_type": "markdown",
   "metadata": {},
   "source": [
    "# Recodificación para workclass"
   ]
  },
  {
   "cell_type": "markdown",
   "metadata": {},
   "source": [
    "○ workclass debe recodificarse como workclass_recod siguiendo una\n",
    "nomenclatura similar a :\n",
    "■ federal-gov ← Federal-gov.\n",
    "■ state-level-gov ← State-gov, Local-gov.\n",
    "■ self-employed ← Self-emp-inc, Self-emp-not-inc\n",
    "■ unemployed ← Never-worked, Without-pay."
   ]
  },
  {
   "cell_type": "code",
   "execution_count": 931,
   "metadata": {},
   "outputs": [],
   "source": [
    "df = df.rename(columns = {'workclass': 'workclass_recod'}) "
   ]
  },
  {
   "cell_type": "code",
   "execution_count": 932,
   "metadata": {},
   "outputs": [
    {
     "data": {
      "text/html": [
       "<div>\n",
       "<style scoped>\n",
       "    .dataframe tbody tr th:only-of-type {\n",
       "        vertical-align: middle;\n",
       "    }\n",
       "\n",
       "    .dataframe tbody tr th {\n",
       "        vertical-align: top;\n",
       "    }\n",
       "\n",
       "    .dataframe thead th {\n",
       "        text-align: right;\n",
       "    }\n",
       "</style>\n",
       "<table border=\"1\" class=\"dataframe\">\n",
       "  <thead>\n",
       "    <tr style=\"text-align: right;\">\n",
       "      <th></th>\n",
       "      <th>age</th>\n",
       "      <th>workclass_recod</th>\n",
       "      <th>fnlwgt</th>\n",
       "      <th>education</th>\n",
       "      <th>educational-num</th>\n",
       "      <th>marital-status</th>\n",
       "      <th>occupation</th>\n",
       "      <th>relationship</th>\n",
       "      <th>race</th>\n",
       "      <th>gender</th>\n",
       "      <th>capital-gain</th>\n",
       "      <th>capital-loss</th>\n",
       "      <th>hours-per-week</th>\n",
       "      <th>native-country</th>\n",
       "      <th>income</th>\n",
       "    </tr>\n",
       "  </thead>\n",
       "  <tbody>\n",
       "    <tr>\n",
       "      <th>3463</th>\n",
       "      <td>37</td>\n",
       "      <td>Federal-gov</td>\n",
       "      <td>127879</td>\n",
       "      <td>Some-college</td>\n",
       "      <td>10</td>\n",
       "      <td>Never-married</td>\n",
       "      <td>Exec-managerial</td>\n",
       "      <td>Own-child</td>\n",
       "      <td>Black</td>\n",
       "      <td>Female</td>\n",
       "      <td>0</td>\n",
       "      <td>0</td>\n",
       "      <td>40</td>\n",
       "      <td>United-States</td>\n",
       "      <td>&lt;=50K</td>\n",
       "    </tr>\n",
       "  </tbody>\n",
       "</table>\n",
       "</div>"
      ],
      "text/plain": [
       "      age workclass_recod  fnlwgt     education  educational-num  \\\n",
       "3463   37     Federal-gov  127879  Some-college               10   \n",
       "\n",
       "     marital-status       occupation relationship   race  gender  \\\n",
       "3463  Never-married  Exec-managerial    Own-child  Black  Female   \n",
       "\n",
       "      capital-gain  capital-loss  hours-per-week native-country income  \n",
       "3463             0             0              40  United-States  <=50K  "
      ]
     },
     "execution_count": 932,
     "metadata": {},
     "output_type": "execute_result"
    }
   ],
   "source": [
    "df.sample()"
   ]
  },
  {
   "cell_type": "code",
   "execution_count": 933,
   "metadata": {},
   "outputs": [
    {
     "data": {
      "text/plain": [
       "Private             33307\n",
       "Self-emp-not-inc     3796\n",
       "Local-gov            3100\n",
       "State-gov            1946\n",
       "Self-emp-inc         1646\n",
       "Federal-gov          1406\n",
       "Without-pay            21\n",
       "Name: workclass_recod, dtype: int64"
      ]
     },
     "execution_count": 933,
     "metadata": {},
     "output_type": "execute_result"
    }
   ],
   "source": [
    "df[\"workclass_recod\"].value_counts() # matriz antes del replace para workclass_recod"
   ]
  },
  {
   "cell_type": "code",
   "execution_count": 934,
   "metadata": {},
   "outputs": [],
   "source": [
    "df[\"workclass_recod\"] = df[\"workclass_recod\"].replace([\"State-gov\", \"Local-gov\"],\"state-level-gov\")\n",
    "df[\"workclass_recod\"] = df[\"workclass_recod\"].replace([\"Self-emp-inc\", \"Self-emp-not-inc\"],\"self-employed\")\n",
    "df[\"workclass_recod\"] = df[\"workclass_recod\"].replace([\"Never-worked\", \"Without-pay\"],\"unemployed\")\n",
    "df[\"workclass_recod\"] = df[\"workclass_recod\"].replace(\"Federal-gov\",\"federal-gov\")"
   ]
  },
  {
   "cell_type": "code",
   "execution_count": 935,
   "metadata": {},
   "outputs": [
    {
     "data": {
      "text/plain": [
       "Private            33307\n",
       "self-employed       5442\n",
       "state-level-gov     5046\n",
       "federal-gov         1406\n",
       "unemployed            21\n",
       "Name: workclass_recod, dtype: int64"
      ]
     },
     "execution_count": 935,
     "metadata": {},
     "output_type": "execute_result"
    }
   ],
   "source": [
    "df[\"workclass_recod\"].value_counts()"
   ]
  },
  {
   "cell_type": "markdown",
   "metadata": {},
   "source": [
    "# Recodificación para native-country "
   ]
  },
  {
   "cell_type": "markdown",
   "metadata": {},
   "source": [
    "○ native-country debe recodificarse como region donde cada país debe\n",
    "asignarse a uno de los 5 continentes."
   ]
  },
  {
   "cell_type": "code",
   "execution_count": 936,
   "metadata": {},
   "outputs": [
    {
     "data": {
      "text/plain": [
       "United-States                 41292\n",
       "Mexico                          903\n",
       "Philippines                     283\n",
       "Germany                         193\n",
       "Puerto-Rico                     175\n",
       "Canada                          163\n",
       "El-Salvador                     147\n",
       "India                           147\n",
       "Cuba                            133\n",
       "England                         119\n",
       "China                           113\n",
       "Jamaica                         103\n",
       "South                           101\n",
       "Italy                           100\n",
       "Dominican-Republic               97\n",
       "Japan                            89\n",
       "Guatemala                        86\n",
       "Vietnam                          83\n",
       "Columbia                         82\n",
       "Poland                           81\n",
       "Haiti                            69\n",
       "Portugal                         62\n",
       "Iran                             56\n",
       "Taiwan                           55\n",
       "Greece                           49\n",
       "Nicaragua                        48\n",
       "Peru                             45\n",
       "Ecuador                          43\n",
       "Ireland                          36\n",
       "France                           36\n",
       "Thailand                         29\n",
       "Hong                             28\n",
       "Cambodia                         26\n",
       "Trinadad&Tobago                  26\n",
       "Yugoslavia                       23\n",
       "Outlying-US(Guam-USVI-etc)       22\n",
       "Laos                             21\n",
       "Scotland                         20\n",
       "Honduras                         19\n",
       "Hungary                          18\n",
       "Holand-Netherlands                1\n",
       "Name: native-country, dtype: int64"
      ]
     },
     "execution_count": 936,
     "metadata": {},
     "output_type": "execute_result"
    }
   ],
   "source": [
    "df[\"native-country\"].value_counts()"
   ]
  },
  {
   "cell_type": "code",
   "execution_count": 937,
   "metadata": {},
   "outputs": [],
   "source": [
    "df = df.rename(columns = {'native-country': 'region'}) "
   ]
  },
  {
   "cell_type": "code",
   "execution_count": 938,
   "metadata": {},
   "outputs": [],
   "source": [
    "df[\"region\"] = df[\"region\"].replace([\"United-States\", \"Mexico\", \"Puerto-Rico\",\"Canada\",\"El-Salvador\",\"Cuba\", \"Jamaica\", \n",
    "                                     \"Dominican-Republic\",\"Guatemala\",\"Columbia\",\"Haiti\",\"Nicaragua\",\"Peru\",\n",
    "                                    \"Ecuador\",\"Trinadad&Tobago\",\"Honduras\",\n",
    "                                     \"Outlying-US(Guam-USVI-etc)\"],\"america\")"
   ]
  },
  {
   "cell_type": "code",
   "execution_count": 939,
   "metadata": {},
   "outputs": [],
   "source": [
    "df[\"region\"] = df[\"region\"].replace([\"Germany\", \"England\", \"Poland\", \"Portugal\",\"Greece\",\"Italy\",\n",
    "                                    \"Ireland\",\"France\",\"Yugoslavia\",\"Scotland\",\"Hungary\",\n",
    "                                    \"Holand-Netherlands\"],\"europa\")"
   ]
  },
  {
   "cell_type": "code",
   "execution_count": 940,
   "metadata": {},
   "outputs": [],
   "source": [
    "df[\"region\"] = df[\"region\"].replace([\"Philippines\",\"India\",\"China\",\"South\",\"Japan\",\n",
    "                                    \"Vietnam\",\"Taiwan\",\"Thailand\",\"Hong\",\"Cambodia\",\"Laos\", \"Iran\"],\"asia\")"
   ]
  },
  {
   "cell_type": "code",
   "execution_count": 941,
   "metadata": {},
   "outputs": [
    {
     "data": {
      "text/plain": [
       "america    43453\n",
       "asia        1031\n",
       "europa       738\n",
       "Name: region, dtype: int64"
      ]
     },
     "execution_count": 941,
     "metadata": {},
     "output_type": "execute_result"
    }
   ],
   "source": [
    "df.region.value_counts() #Corroboración de la nuevas columnas"
   ]
  },
  {
   "cell_type": "markdown",
   "metadata": {},
   "source": [
    "# Recodificación para occupation "
   ]
  },
  {
   "cell_type": "markdown",
   "metadata": {},
   "source": [
    "○ occupation debe recodificarse como collars siguiendo una nomenclatura\n",
    "similar a:\n",
    "■ white-collar ← Prof-specialty, Exec-managerial, Adm-clerical,\n",
    "Sales, Tech-support.\n",
    "■ blue-collar ← Craft-repair, Machine-op-inspct, Transport-moving,\n",
    "Handlers-cleaners, Farming-fishing, Protective-serv, Priv-house-serv.\n",
    "■ others ← Other-service, Armed-Forces."
   ]
  },
  {
   "cell_type": "code",
   "execution_count": 942,
   "metadata": {},
   "outputs": [],
   "source": [
    "df = df.rename(columns = {'occupation': 'collars'}) "
   ]
  },
  {
   "cell_type": "code",
   "execution_count": 943,
   "metadata": {},
   "outputs": [],
   "source": [
    "df[\"collars\"] = df[\"collars\"].replace([\"Prof-specialty\", \"Exec-managerial\", \"Adm-clerical\",\n",
    "                                     \"Sales\", \"Tech-support\"],\"white-collar\")"
   ]
  },
  {
   "cell_type": "code",
   "execution_count": 944,
   "metadata": {},
   "outputs": [],
   "source": [
    "df[\"collars\"] = df[\"collars\"].replace([\"Craft-repair\", \"Machine-op-inspct\", \"Transport-moving\",\n",
    "                                       \"Handlers-cleaners\", \"Farming-fishing\", \n",
    "                                       \"Protective-serv\", \"Priv-house-serv\"],\"blue-collar\")"
   ]
  },
  {
   "cell_type": "code",
   "execution_count": 945,
   "metadata": {},
   "outputs": [],
   "source": [
    "df[\"collars\"] = df[\"collars\"].replace([\"Other-service\", \"Armed-Forces\"],\"others\")"
   ]
  },
  {
   "cell_type": "code",
   "execution_count": 946,
   "metadata": {},
   "outputs": [
    {
     "data": {
      "text/plain": [
       "white-collar    24360\n",
       "blue-collar     16040\n",
       "others           4822\n",
       "Name: collars, dtype: int64"
      ]
     },
     "execution_count": 946,
     "metadata": {},
     "output_type": "execute_result"
    }
   ],
   "source": [
    "df.collars.value_counts() #Corroboración de la nuevas columnas"
   ]
  },
  {
   "cell_type": "markdown",
   "metadata": {},
   "source": [
    "# Recodificación para education"
   ]
  },
  {
   "cell_type": "markdown",
   "metadata": {},
   "source": [
    "○ education debe recodificarse como educ_recod siguiendo una\n",
    "nomenclatura similar a :\n",
    "■ preschool ← Preschool\n",
    "■ elementary-school ← 1st-4th, 5th-6th\n",
    "■ high-school ← 7th-8th, 9th, 10th,11th, 12th, HS-grad\n",
    "■ college ← Assoc-voc, Assoc-acdm, Some-college\n",
    "■ university ← Bachelors, Masters, Prof-school, Doctorate."
   ]
  },
  {
   "cell_type": "code",
   "execution_count": 947,
   "metadata": {},
   "outputs": [],
   "source": [
    "df = df.rename(columns = {'education': 'educ_recod'}) "
   ]
  },
  {
   "cell_type": "code",
   "execution_count": 948,
   "metadata": {},
   "outputs": [],
   "source": [
    "df[\"educ_recod\"] = df[\"educ_recod\"].replace([\"Preschool\"],\"preschool\")"
   ]
  },
  {
   "cell_type": "code",
   "execution_count": 949,
   "metadata": {},
   "outputs": [],
   "source": [
    "df[\"educ_recod\"] = df[\"educ_recod\"].replace([\"1st-4th\",\"5th-6th\"],\"elementary-school\")"
   ]
  },
  {
   "cell_type": "code",
   "execution_count": 950,
   "metadata": {},
   "outputs": [],
   "source": [
    "df[\"educ_recod\"] = df[\"educ_recod\"].replace([\"7th-8th\",\"9th\",\"10th\",\"11th\",\"12th\",\"HS-grad\"],\"high-school\")"
   ]
  },
  {
   "cell_type": "code",
   "execution_count": 951,
   "metadata": {},
   "outputs": [],
   "source": [
    "df[\"educ_recod\"] = df[\"educ_recod\"].replace([\"Assoc-voc\",\"Assoc-acdm\",\"Some-college\"],\"college\")"
   ]
  },
  {
   "cell_type": "code",
   "execution_count": 952,
   "metadata": {},
   "outputs": [],
   "source": [
    "df[\"educ_recod\"] = df[\"educ_recod\"].replace([\"Bachelors\",\"Masters\",\"Prof-school\",\"Doctorate\"],\"university\")"
   ]
  },
  {
   "cell_type": "code",
   "execution_count": 953,
   "metadata": {},
   "outputs": [
    {
     "data": {
      "text/plain": [
       "high-school          19701\n",
       "college              13365\n",
       "university           11413\n",
       "elementary-school      671\n",
       "preschool               72\n",
       "Name: educ_recod, dtype: int64"
      ]
     },
     "execution_count": 953,
     "metadata": {},
     "output_type": "execute_result"
    }
   ],
   "source": [
    "df.educ_recod.value_counts()#Corroboración de la nuevas columnas"
   ]
  },
  {
   "cell_type": "markdown",
   "metadata": {},
   "source": [
    "# Recodificación para marital-statu"
   ]
  },
  {
   "cell_type": "markdown",
   "metadata": {},
   "source": [
    "○ marital-status debe recodificarse como civstatus siguiendo una\n",
    "nomenclatura similar a :\n",
    "■ married ← Married-civ-spouse, Married-spouse-absent,\n",
    "Married-AF-spouse.\n",
    "■ divorced ← Divorced.\n",
    "■ separated ← Separated.\n",
    "■ widowed ← Widowed."
   ]
  },
  {
   "cell_type": "code",
   "execution_count": 954,
   "metadata": {},
   "outputs": [],
   "source": [
    "df = df.rename(columns = {'marital-status': 'civstatus'}) #Corroboración de la nuevas columnas"
   ]
  },
  {
   "cell_type": "code",
   "execution_count": 955,
   "metadata": {},
   "outputs": [],
   "source": [
    "df[\"civstatus\"] = df[\"civstatus\"].replace([\"Married-civ-spouse\", \"Married-spouse-absent\",\n",
    "                                           \"Married-AF-spouse\"],\"married\")"
   ]
  },
  {
   "cell_type": "code",
   "execution_count": 956,
   "metadata": {},
   "outputs": [],
   "source": [
    "df[\"civstatus\"] = df[\"civstatus\"].replace([\"Divorced\"],\"divorced\")"
   ]
  },
  {
   "cell_type": "code",
   "execution_count": 957,
   "metadata": {},
   "outputs": [],
   "source": [
    "df[\"civstatus\"] = df[\"civstatus\"].replace([\"Separated\"],\"separated\")"
   ]
  },
  {
   "cell_type": "code",
   "execution_count": 958,
   "metadata": {},
   "outputs": [],
   "source": [
    "df[\"civstatus\"] = df[\"civstatus\"].replace([\"Widowed\"],\"widowed\")"
   ]
  },
  {
   "cell_type": "code",
   "execution_count": 959,
   "metadata": {},
   "outputs": [
    {
     "data": {
      "text/plain": [
       "married          21639\n",
       "Never-married    14598\n",
       "divorced          6297\n",
       "separated         1411\n",
       "widowed           1277\n",
       "Name: civstatus, dtype: int64"
      ]
     },
     "execution_count": 959,
     "metadata": {},
     "output_type": "execute_result"
    }
   ],
   "source": [
    "df.civstatus.value_counts()"
   ]
  },
  {
   "cell_type": "markdown",
   "metadata": {},
   "source": [
    "# Recodificación para income"
   ]
  },
  {
   "cell_type": "markdown",
   "metadata": {},
   "source": [
    "○ income debe recodificarse de forma binaria."
   ]
  },
  {
   "cell_type": "code",
   "execution_count": 960,
   "metadata": {},
   "outputs": [
    {
     "data": {
      "text/plain": [
       "<=50K    34014\n",
       ">50K     11208\n",
       "Name: income, dtype: int64"
      ]
     },
     "execution_count": 960,
     "metadata": {},
     "output_type": "execute_result"
    }
   ],
   "source": [
    "df.income.value_counts()"
   ]
  },
  {
   "cell_type": "code",
   "execution_count": 961,
   "metadata": {},
   "outputs": [],
   "source": [
    "df[\"income\"] = np.where(df['income']=='>50K',1, 0)"
   ]
  },
  {
   "cell_type": "code",
   "execution_count": 962,
   "metadata": {},
   "outputs": [],
   "source": [
    "df[\"gender\"] = np.where(df['gender']=='Female',1, 0)"
   ]
  },
  {
   "cell_type": "code",
   "execution_count": 963,
   "metadata": {},
   "outputs": [
    {
     "data": {
      "text/plain": [
       "0    30527\n",
       "1    14695\n",
       "Name: gender, dtype: int64"
      ]
     },
     "execution_count": 963,
     "metadata": {},
     "output_type": "execute_result"
    }
   ],
   "source": [
    "df.gender.value_counts()"
   ]
  },
  {
   "cell_type": "code",
   "execution_count": 964,
   "metadata": {},
   "outputs": [
    {
     "data": {
      "text/plain": [
       "0    34014\n",
       "1    11208\n",
       "Name: income, dtype: int64"
      ]
     },
     "execution_count": 964,
     "metadata": {},
     "output_type": "execute_result"
    }
   ],
   "source": [
    "df.income.value_counts()#Corroboración de la nuevas columnas"
   ]
  },
  {
   "cell_type": "code",
   "execution_count": 965,
   "metadata": {},
   "outputs": [
    {
     "data": {
      "text/html": [
       "<div>\n",
       "<style scoped>\n",
       "    .dataframe tbody tr th:only-of-type {\n",
       "        vertical-align: middle;\n",
       "    }\n",
       "\n",
       "    .dataframe tbody tr th {\n",
       "        vertical-align: top;\n",
       "    }\n",
       "\n",
       "    .dataframe thead th {\n",
       "        text-align: right;\n",
       "    }\n",
       "</style>\n",
       "<table border=\"1\" class=\"dataframe\">\n",
       "  <thead>\n",
       "    <tr style=\"text-align: right;\">\n",
       "      <th></th>\n",
       "      <th>age</th>\n",
       "      <th>workclass_recod</th>\n",
       "      <th>fnlwgt</th>\n",
       "      <th>educ_recod</th>\n",
       "      <th>educational-num</th>\n",
       "      <th>civstatus</th>\n",
       "      <th>collars</th>\n",
       "      <th>relationship</th>\n",
       "      <th>race</th>\n",
       "      <th>gender</th>\n",
       "      <th>capital-gain</th>\n",
       "      <th>capital-loss</th>\n",
       "      <th>hours-per-week</th>\n",
       "      <th>region</th>\n",
       "      <th>income</th>\n",
       "    </tr>\n",
       "  </thead>\n",
       "  <tbody>\n",
       "    <tr>\n",
       "      <th>0</th>\n",
       "      <td>25</td>\n",
       "      <td>Private</td>\n",
       "      <td>226802</td>\n",
       "      <td>high-school</td>\n",
       "      <td>7</td>\n",
       "      <td>Never-married</td>\n",
       "      <td>blue-collar</td>\n",
       "      <td>Own-child</td>\n",
       "      <td>Black</td>\n",
       "      <td>0</td>\n",
       "      <td>0</td>\n",
       "      <td>0</td>\n",
       "      <td>40</td>\n",
       "      <td>america</td>\n",
       "      <td>0</td>\n",
       "    </tr>\n",
       "    <tr>\n",
       "      <th>1</th>\n",
       "      <td>38</td>\n",
       "      <td>Private</td>\n",
       "      <td>89814</td>\n",
       "      <td>high-school</td>\n",
       "      <td>9</td>\n",
       "      <td>married</td>\n",
       "      <td>blue-collar</td>\n",
       "      <td>Husband</td>\n",
       "      <td>White</td>\n",
       "      <td>0</td>\n",
       "      <td>0</td>\n",
       "      <td>0</td>\n",
       "      <td>50</td>\n",
       "      <td>america</td>\n",
       "      <td>0</td>\n",
       "    </tr>\n",
       "    <tr>\n",
       "      <th>2</th>\n",
       "      <td>28</td>\n",
       "      <td>state-level-gov</td>\n",
       "      <td>336951</td>\n",
       "      <td>college</td>\n",
       "      <td>12</td>\n",
       "      <td>married</td>\n",
       "      <td>blue-collar</td>\n",
       "      <td>Husband</td>\n",
       "      <td>White</td>\n",
       "      <td>0</td>\n",
       "      <td>0</td>\n",
       "      <td>0</td>\n",
       "      <td>40</td>\n",
       "      <td>america</td>\n",
       "      <td>1</td>\n",
       "    </tr>\n",
       "    <tr>\n",
       "      <th>3</th>\n",
       "      <td>44</td>\n",
       "      <td>Private</td>\n",
       "      <td>160323</td>\n",
       "      <td>college</td>\n",
       "      <td>10</td>\n",
       "      <td>married</td>\n",
       "      <td>blue-collar</td>\n",
       "      <td>Husband</td>\n",
       "      <td>Black</td>\n",
       "      <td>0</td>\n",
       "      <td>7688</td>\n",
       "      <td>0</td>\n",
       "      <td>40</td>\n",
       "      <td>america</td>\n",
       "      <td>1</td>\n",
       "    </tr>\n",
       "    <tr>\n",
       "      <th>5</th>\n",
       "      <td>34</td>\n",
       "      <td>Private</td>\n",
       "      <td>198693</td>\n",
       "      <td>high-school</td>\n",
       "      <td>6</td>\n",
       "      <td>Never-married</td>\n",
       "      <td>others</td>\n",
       "      <td>Not-in-family</td>\n",
       "      <td>White</td>\n",
       "      <td>0</td>\n",
       "      <td>0</td>\n",
       "      <td>0</td>\n",
       "      <td>30</td>\n",
       "      <td>america</td>\n",
       "      <td>0</td>\n",
       "    </tr>\n",
       "  </tbody>\n",
       "</table>\n",
       "</div>"
      ],
      "text/plain": [
       "   age  workclass_recod  fnlwgt   educ_recod  educational-num      civstatus  \\\n",
       "0   25          Private  226802  high-school                7  Never-married   \n",
       "1   38          Private   89814  high-school                9        married   \n",
       "2   28  state-level-gov  336951      college               12        married   \n",
       "3   44          Private  160323      college               10        married   \n",
       "5   34          Private  198693  high-school                6  Never-married   \n",
       "\n",
       "       collars   relationship   race  gender  capital-gain  capital-loss  \\\n",
       "0  blue-collar      Own-child  Black       0             0             0   \n",
       "1  blue-collar        Husband  White       0             0             0   \n",
       "2  blue-collar        Husband  White       0             0             0   \n",
       "3  blue-collar        Husband  Black       0          7688             0   \n",
       "5       others  Not-in-family  White       0             0             0   \n",
       "\n",
       "   hours-per-week   region  income  \n",
       "0              40  america       0  \n",
       "1              50  america       0  \n",
       "2              40  america       1  \n",
       "3              40  america       1  \n",
       "5              30  america       0  "
      ]
     },
     "execution_count": 965,
     "metadata": {},
     "output_type": "execute_result"
    }
   ],
   "source": [
    "df.head(n=5)"
   ]
  },
  {
   "cell_type": "code",
   "execution_count": 966,
   "metadata": {},
   "outputs": [
    {
     "name": "stdout",
     "output_type": "stream",
     "text": [
      "<class 'pandas.core.frame.DataFrame'>\n",
      "Int64Index: 45222 entries, 0 to 48841\n",
      "Data columns (total 15 columns):\n",
      " #   Column           Non-Null Count  Dtype \n",
      "---  ------           --------------  ----- \n",
      " 0   age              45222 non-null  int64 \n",
      " 1   workclass_recod  45222 non-null  object\n",
      " 2   fnlwgt           45222 non-null  int64 \n",
      " 3   educ_recod       45222 non-null  object\n",
      " 4   educational-num  45222 non-null  int64 \n",
      " 5   civstatus        45222 non-null  object\n",
      " 6   collars          45222 non-null  object\n",
      " 7   relationship     45222 non-null  object\n",
      " 8   race             45222 non-null  object\n",
      " 9   gender           45222 non-null  int32 \n",
      " 10  capital-gain     45222 non-null  int64 \n",
      " 11  capital-loss     45222 non-null  int64 \n",
      " 12  hours-per-week   45222 non-null  int64 \n",
      " 13  region           45222 non-null  object\n",
      " 14  income           45222 non-null  int32 \n",
      "dtypes: int32(2), int64(6), object(7)\n",
      "memory usage: 5.2+ MB\n"
     ]
    }
   ],
   "source": [
    "df.info()#Corroboración de los cambios en el dataframe"
   ]
  },
  {
   "cell_type": "markdown",
   "metadata": {},
   "source": [
    "# Descripción y comportamiento de las variables continuas"
   ]
  },
  {
   "cell_type": "code",
   "execution_count": 785,
   "metadata": {},
   "outputs": [],
   "source": [
    "def plot_hist(df, columna):\n",
    "    tmp = df[columna].dropna() # elimna los valores NAN\n",
    "    plt.hist(tmp, color=\"black\", alpha=.6) # genera el grafico incorporando la serie tmp\n",
    "    plt.title(columna)# nombre de la serie o columna\n",
    "    plt.axvline(np.mean(tmp), color= \"red\", label= \"Media\") # grafica la vertical que representa la media de la submuestra\n",
    "    plt.axvline(np.median(df[columna]), color= \"blue\", label = \"Median\")  # grafica la vertical que representa la media del total de la muestra\n",
    "    plt.legend() # asi imprime las observaciones de label\n"
   ]
  },
  {
   "cell_type": "code",
   "execution_count": 786,
   "metadata": {},
   "outputs": [
    {
     "data": {
      "text/plain": [
       "<function matplotlib.pyplot.tight_layout(*, pad=1.08, h_pad=None, w_pad=None, rect=None)>"
      ]
     },
     "execution_count": 786,
     "metadata": {},
     "output_type": "execute_result"
    },
    {
     "data": {
      "image/png": "[encoded data removed]",
      "text/plain": [
       "<Figure size 1440x648 with 6 Axes>"
      ]
     },
     "metadata": {},
     "output_type": "display_data"
    }
   ],
   "source": [
    "plt.figure(figsize=(20,9))\n",
    "lista =['age','fnlwgt','capital_gain', 'educational_num','capital_loss', 'hours_per_week']\n",
    "\n",
    "for i,j in enumerate(lista):\n",
    "    plt.subplot(3,2,i+1)\n",
    "    plot_hist(df,j)\n",
    "\n",
    "plt.tight_layout\n"
   ]
  },
  {
   "cell_type": "markdown",
   "metadata": {},
   "source": [
    "Comentario:\n",
    "\n",
    "Age: evidencia que la edad promedio de los encuestados corresponde a los 40 años,la mayor concentración de los datos\n",
    "se produce entre los 30 y 50 años, decreciendo porteriormente.  \n",
    "Capital_gain presenta en promedio valores cercano a 0 indicando que la mayor parte de los encuestados no genera grandes cantidades de ingreso por inversiones fuera del trabajo. Una intepretacion similar se desprende para capital_loss(pérdidas generadas por inversiones fuera del trabajo asalariado).\n",
    "Educational_num no esta explicado en el modelo de la prueba, pero muy probablemente corresponde a los años de estudio de los encuestados, presenta un promedio de 10 años seguido por el intervalo de 10-12 y 13-14 años. Finalmente, la cantidad de horas trabajadas por semana(hours_per_week) presenta un promedio de 42, concentrandose en el grueso de los datos en un rango de 30-40 horas. \n"
   ]
  },
  {
   "cell_type": "markdown",
   "metadata": {},
   "source": [
    "# Gráficos de dispersión para los datos del tipo object"
   ]
  },
  {
   "cell_type": "code",
   "execution_count": 787,
   "metadata": {},
   "outputs": [
    {
     "data": {
      "text/plain": [
       "<function matplotlib.pyplot.tight_layout(*, pad=1.08, h_pad=None, w_pad=None, rect=None)>"
      ]
     },
     "execution_count": 787,
     "metadata": {},
     "output_type": "execute_result"
    },
    {
     "data": {
      "image/png": "[encoded data removed]",
      "text/plain": [
       "<Figure size 1008x648 with 6 Axes>"
      ]
     },
     "metadata": {},
     "output_type": "display_data"
    }
   ],
   "source": [
    "lista_2 = [\"workclass_recod\",\"educ_recod\",\"civstatus\",\"collars\",\"gender\",\"race\"]\n",
    "\n",
    "plt.figure(figsize=(14,9))\n",
    "#lt.tight_layout\n",
    "for i,j in enumerate(lista_2):\n",
    "    plt.subplot(3,2,i+1)\n",
    "    plt.hist(df[j], alpha= .6 , color= 'brown')\n",
    "    plt.title(j)\n",
    "plt.tight_layout"
   ]
  },
  {
   "cell_type": "markdown",
   "metadata": {},
   "source": [
    "Comentario: Para \"workclass_recod\" la clase con mayor frecuencia de los datos corresponde al tipo privado. Respecto a la eduación la mayor cantidad de los datos se distribuye entre las clases high-school y college, seguido por universitarios.\n",
    "Respescto a la situacion marital, la mayor clase corresponde a las personas casadas, seguidos por los que nunca se han casado.\n",
    "El genero de los encuestados esta principlamente compuesto por la clase hombre, los que doblan a la cantidad de mujeres. Finalmente, la raza que esta mayormente representada se identifica con la blanca, seguida por la raza negra correspondiente a 1/4 de la antes mencionada."
   ]
  },
  {
   "cell_type": "markdown",
   "metadata": {},
   "source": [
    "# Diagrama de dispersión para variable objeivo"
   ]
  },
  {
   "cell_type": "code",
   "execution_count": 788,
   "metadata": {},
   "outputs": [
    {
     "data": {
      "text/plain": [
       "Text(0, 0.5, 'Frecuencia')"
      ]
     },
     "execution_count": 788,
     "metadata": {},
     "output_type": "execute_result"
    },
    {
     "data": {
      "image/png": "[encoded data removed]",
      "text/plain": [
       "<Figure size 432x288 with 1 Axes>"
      ]
     },
     "metadata": {},
     "output_type": "display_data"
    }
   ],
   "source": [
    "plt.hist(df[\"income\"], alpha= .6 , color= 'black')\n",
    "plt.title(\"income\")\n",
    "plt.ylabel(\"Frecuencia\")"
   ]
  },
  {
   "cell_type": "markdown",
   "metadata": {},
   "source": [
    "Comentario: income se representa por dos clases: 0 y 1. La clase 0 corresponde a sueldos menores a 50k, estos representan en la muestra más del 70% de los casos, lo que nos indica que el grueso de los trabajadores percibe ingresos anuales menores o iguales a 50k."
   ]
  },
  {
   "cell_type": "markdown",
   "metadata": {},
   "source": [
    "# Modelación descriptiva"
   ]
  },
  {
   "cell_type": "code",
   "execution_count": null,
   "metadata": {},
   "outputs": [],
   "source": [
    "Una sección llamada Modelación descriptiva, que buscará definir cuáles son los principales determinantes del objeto de estudio. \n",
    "En base a esta sección se podrá construír o depurar el modelo predictivo.\n",
    "\n",
    "-Objetivo\n",
    "● Completar el punto de Modelación descriptiva.\n",
    "Elementos a considerar\n",
    "● La modelación mediante regresión de ambos problemas. (2 Puntos)\n",
    "● La interpretación de los principales regresores en cada problema. (2 Puntos)\n",
    "● La definición de las estrategias de Modelación predictiva. (1 Punto)\n",
    "● Entregable: Dos notebooks (uno por enunciado) con todos los puntos"
   ]
  },
  {
   "cell_type": "code",
   "execution_count": 789,
   "metadata": {},
   "outputs": [
    {
     "data": {
      "text/plain": [
       "Index(['age', 'workclass_recod', 'fnlwgt', 'educ_recod', 'educational_num',\n",
       "       'civstatus', 'collars', 'relationship', 'race', 'gender',\n",
       "       'capital_gain', 'capital_loss', 'hours_per_week', 'region', 'income'],\n",
       "      dtype='object')"
      ]
     },
     "execution_count": 789,
     "metadata": {},
     "output_type": "execute_result"
    }
   ],
   "source": [
    "df.columns"
   ]
  },
  {
   "cell_type": "markdown",
   "metadata": {},
   "source": [
    "# INCOME. Si el individuo percibe ingresos inferiores a 50.000 dólares anuales,>50K si el individuo percibe ingresos superiores a 50.000 dólares anuales. Este es su vector objetivo ."
   ]
  },
  {
   "cell_type": "code",
   "execution_count": 790,
   "metadata": {},
   "outputs": [],
   "source": [
    "#existen problemas para las columnas nombradas con guiones se cambiará el signo \"-\", por el guión bajo en las columnas \n",
    "#correspondientes: 'capital-gain', 'capital-loss', 'hours-per-week' y 'educational-num'."
   ]
  },
  {
   "cell_type": "code",
   "execution_count": 967,
   "metadata": {},
   "outputs": [],
   "source": [
    "df = df.rename(columns = {'capital-gain': 'capital_gain'}) "
   ]
  },
  {
   "cell_type": "code",
   "execution_count": 968,
   "metadata": {},
   "outputs": [],
   "source": [
    "df = df.rename(columns = {'capital-loss': 'capital_loss'}) "
   ]
  },
  {
   "cell_type": "code",
   "execution_count": 969,
   "metadata": {},
   "outputs": [],
   "source": [
    "df = df.rename(columns = {'hours-per-week': 'hours_per_week'}) "
   ]
  },
  {
   "cell_type": "code",
   "execution_count": 970,
   "metadata": {},
   "outputs": [],
   "source": [
    "df = df.rename(columns = {'educational-num': 'educational_num'}) "
   ]
  },
  {
   "cell_type": "code",
   "execution_count": 971,
   "metadata": {},
   "outputs": [],
   "source": [
    "# Creamos las variables binarias para las variables NOMINALES!\n",
    "#Creamos las variables binarias con el método get_dummies y ajustamos el \n",
    "#argumento drop_first a True para eliminar primera variable y evitar así los problemas de redundancia."
   ]
  },
  {
   "cell_type": "code",
   "execution_count": 972,
   "metadata": {},
   "outputs": [],
   "source": [
    "df[\"workclass_recod\"] = pd.get_dummies(df['workclass_recod'], drop_first = True)"
   ]
  },
  {
   "cell_type": "code",
   "execution_count": 973,
   "metadata": {},
   "outputs": [],
   "source": [
    "df[\"educ_recod\"] = pd.get_dummies(df['educ_recod'], drop_first = True)"
   ]
  },
  {
   "cell_type": "code",
   "execution_count": 974,
   "metadata": {},
   "outputs": [
    {
     "data": {
      "text/plain": [
       "0    44551\n",
       "1      671\n",
       "Name: educ_recod, dtype: int64"
      ]
     },
     "execution_count": 974,
     "metadata": {},
     "output_type": "execute_result"
    }
   ],
   "source": [
    "df[\"educ_recod\"].value_counts() "
   ]
  },
  {
   "cell_type": "code",
   "execution_count": 975,
   "metadata": {},
   "outputs": [],
   "source": [
    "df[\"civstatus\"] = pd.get_dummies(df['civstatus'], drop_first = True)"
   ]
  },
  {
   "cell_type": "code",
   "execution_count": 976,
   "metadata": {},
   "outputs": [],
   "source": [
    "df[\"collars\"] = pd.get_dummies(df['collars'], drop_first = True)"
   ]
  },
  {
   "cell_type": "code",
   "execution_count": 977,
   "metadata": {},
   "outputs": [],
   "source": [
    "df[\"relationship\"] = pd.get_dummies(df['relationship'], drop_first = True)"
   ]
  },
  {
   "cell_type": "code",
   "execution_count": 978,
   "metadata": {},
   "outputs": [],
   "source": [
    "df[\"race\"] = pd.get_dummies(df['race'], drop_first = True)"
   ]
  },
  {
   "cell_type": "code",
   "execution_count": 979,
   "metadata": {},
   "outputs": [],
   "source": [
    "df[\"region\"] = pd.get_dummies(df['region'], drop_first = True)"
   ]
  },
  {
   "cell_type": "code",
   "execution_count": 980,
   "metadata": {},
   "outputs": [
    {
     "data": {
      "text/plain": [
       "0    44191\n",
       "1     1031\n",
       "Name: region, dtype: int64"
      ]
     },
     "execution_count": 980,
     "metadata": {},
     "output_type": "execute_result"
    }
   ],
   "source": [
    "df.region.value_counts()"
   ]
  },
  {
   "cell_type": "code",
   "execution_count": 886,
   "metadata": {},
   "outputs": [
    {
     "name": "stdout",
     "output_type": "stream",
     "text": [
      "<class 'pandas.core.frame.DataFrame'>\n",
      "Int64Index: 45222 entries, 0 to 48841\n",
      "Data columns (total 15 columns):\n",
      " #   Column           Non-Null Count  Dtype\n",
      "---  ------           --------------  -----\n",
      " 0   age              45222 non-null  int64\n",
      " 1   workclass_recod  45222 non-null  uint8\n",
      " 2   fnlwgt           45222 non-null  int64\n",
      " 3   educ_recod       45222 non-null  uint8\n",
      " 4   educational_num  45222 non-null  int64\n",
      " 5   civstatus        45222 non-null  uint8\n",
      " 6   collars          45222 non-null  uint8\n",
      " 7   relationship     45222 non-null  uint8\n",
      " 8   race             45222 non-null  uint8\n",
      " 9   gender           45222 non-null  int32\n",
      " 10  capital_gain     45222 non-null  int64\n",
      " 11  capital_loss     45222 non-null  int64\n",
      " 12  hours_per_week   45222 non-null  int64\n",
      " 13  region           45222 non-null  uint8\n",
      " 14  income           45222 non-null  int32\n",
      "dtypes: int32(2), int64(6), uint8(7)\n",
      "memory usage: 3.1 MB\n"
     ]
    }
   ],
   "source": [
    "df.info()"
   ]
  },
  {
   "cell_type": "markdown",
   "metadata": {},
   "source": [
    "# Mpdelación. Regresión logística para el modelar la variable categórica objetivo \"income\""
   ]
  },
  {
   "cell_type": "code",
   "execution_count": 981,
   "metadata": {},
   "outputs": [
    {
     "name": "stdout",
     "output_type": "stream",
     "text": [
      "Optimization terminated successfully.\n",
      "         Current function value: 0.371994\n",
      "         Iterations 8\n"
     ]
    },
    {
     "data": {
      "text/html": [
       "<table class=\"simpletable\">\n",
       "<caption>Logit Regression Results</caption>\n",
       "<tr>\n",
       "  <th>Dep. Variable:</th>        <td>income</td>      <th>  No. Observations:  </th>  <td> 45222</td> \n",
       "</tr>\n",
       "<tr>\n",
       "  <th>Model:</th>                 <td>Logit</td>      <th>  Df Residuals:      </th>  <td> 45207</td> \n",
       "</tr>\n",
       "<tr>\n",
       "  <th>Method:</th>                 <td>MLE</td>       <th>  Df Model:          </th>  <td>    14</td> \n",
       "</tr>\n",
       "<tr>\n",
       "  <th>Date:</th>            <td>Mon, 11 Apr 2022</td> <th>  Pseudo R-squ.:     </th>  <td>0.3357</td> \n",
       "</tr>\n",
       "<tr>\n",
       "  <th>Time:</th>                <td>14:37:27</td>     <th>  Log-Likelihood:    </th> <td> -16822.</td>\n",
       "</tr>\n",
       "<tr>\n",
       "  <th>converged:</th>             <td>True</td>       <th>  LL-Null:           </th> <td> -25322.</td>\n",
       "</tr>\n",
       "<tr>\n",
       "  <th>Covariance Type:</th>     <td>nonrobust</td>    <th>  LLR p-value:       </th>  <td> 0.000</td> \n",
       "</tr>\n",
       "</table>\n",
       "<table class=\"simpletable\">\n",
       "<tr>\n",
       "         <td></td>            <th>coef</th>     <th>std err</th>      <th>z</th>      <th>P>|z|</th>  <th>[0.025</th>    <th>0.975]</th>  \n",
       "</tr>\n",
       "<tr>\n",
       "  <th>Intercept</th>       <td>   -7.8489</td> <td>    0.110</td> <td>  -71.498</td> <td> 0.000</td> <td>   -8.064</td> <td>   -7.634</td>\n",
       "</tr>\n",
       "<tr>\n",
       "  <th>age</th>             <td>    0.0430</td> <td>    0.001</td> <td>   37.964</td> <td> 0.000</td> <td>    0.041</td> <td>    0.045</td>\n",
       "</tr>\n",
       "<tr>\n",
       "  <th>workclass_recod</th> <td>    0.5279</td> <td>    0.069</td> <td>    7.651</td> <td> 0.000</td> <td>    0.393</td> <td>    0.663</td>\n",
       "</tr>\n",
       "<tr>\n",
       "  <th>fnlwgt</th>          <td> 5.686e-07</td> <td> 1.31e-07</td> <td>    4.334</td> <td> 0.000</td> <td> 3.11e-07</td> <td> 8.26e-07</td>\n",
       "</tr>\n",
       "<tr>\n",
       "  <th>educ_recod</th>      <td>    0.5305</td> <td>    0.206</td> <td>    2.576</td> <td> 0.010</td> <td>    0.127</td> <td>    0.934</td>\n",
       "</tr>\n",
       "<tr>\n",
       "  <th>capital_gain</th>    <td>    0.0003</td> <td> 8.44e-06</td> <td>   38.510</td> <td> 0.000</td> <td>    0.000</td> <td>    0.000</td>\n",
       "</tr>\n",
       "<tr>\n",
       "  <th>capital_loss</th>    <td>    0.0007</td> <td> 2.91e-05</td> <td>   23.482</td> <td> 0.000</td> <td>    0.001</td> <td>    0.001</td>\n",
       "</tr>\n",
       "<tr>\n",
       "  <th>hours_per_week</th>  <td>    0.0337</td> <td>    0.001</td> <td>   27.698</td> <td> 0.000</td> <td>    0.031</td> <td>    0.036</td>\n",
       "</tr>\n",
       "<tr>\n",
       "  <th>educational_num</th> <td>    0.3566</td> <td>    0.006</td> <td>   55.522</td> <td> 0.000</td> <td>    0.344</td> <td>    0.369</td>\n",
       "</tr>\n",
       "<tr>\n",
       "  <th>civstatus</th>       <td>   -0.8950</td> <td>    0.054</td> <td>  -16.438</td> <td> 0.000</td> <td>   -1.002</td> <td>   -0.788</td>\n",
       "</tr>\n",
       "<tr>\n",
       "  <th>collars</th>         <td>   -1.1962</td> <td>    0.081</td> <td>  -14.699</td> <td> 0.000</td> <td>   -1.356</td> <td>   -1.037</td>\n",
       "</tr>\n",
       "<tr>\n",
       "  <th>relationship</th>    <td>   -1.4161</td> <td>    0.041</td> <td>  -34.186</td> <td> 0.000</td> <td>   -1.497</td> <td>   -1.335</td>\n",
       "</tr>\n",
       "<tr>\n",
       "  <th>race</th>            <td>    0.0520</td> <td>    0.121</td> <td>    0.431</td> <td> 0.667</td> <td>   -0.185</td> <td>    0.289</td>\n",
       "</tr>\n",
       "<tr>\n",
       "  <th>gender</th>          <td>   -0.7388</td> <td>    0.036</td> <td>  -20.446</td> <td> 0.000</td> <td>   -0.810</td> <td>   -0.668</td>\n",
       "</tr>\n",
       "<tr>\n",
       "  <th>region</th>          <td>   -0.2785</td> <td>    0.136</td> <td>   -2.048</td> <td> 0.041</td> <td>   -0.545</td> <td>   -0.012</td>\n",
       "</tr>\n",
       "</table>"
      ],
      "text/plain": [
       "<class 'statsmodels.iolib.summary.Summary'>\n",
       "\"\"\"\n",
       "                           Logit Regression Results                           \n",
       "==============================================================================\n",
       "Dep. Variable:                 income   No. Observations:                45222\n",
       "Model:                          Logit   Df Residuals:                    45207\n",
       "Method:                           MLE   Df Model:                           14\n",
       "Date:                Mon, 11 Apr 2022   Pseudo R-squ.:                  0.3357\n",
       "Time:                        14:37:27   Log-Likelihood:                -16822.\n",
       "converged:                       True   LL-Null:                       -25322.\n",
       "Covariance Type:            nonrobust   LLR p-value:                     0.000\n",
       "===================================================================================\n",
       "                      coef    std err          z      P>|z|      [0.025      0.975]\n",
       "-----------------------------------------------------------------------------------\n",
       "Intercept          -7.8489      0.110    -71.498      0.000      -8.064      -7.634\n",
       "age                 0.0430      0.001     37.964      0.000       0.041       0.045\n",
       "workclass_recod     0.5279      0.069      7.651      0.000       0.393       0.663\n",
       "fnlwgt           5.686e-07   1.31e-07      4.334      0.000    3.11e-07    8.26e-07\n",
       "educ_recod          0.5305      0.206      2.576      0.010       0.127       0.934\n",
       "capital_gain        0.0003   8.44e-06     38.510      0.000       0.000       0.000\n",
       "capital_loss        0.0007   2.91e-05     23.482      0.000       0.001       0.001\n",
       "hours_per_week      0.0337      0.001     27.698      0.000       0.031       0.036\n",
       "educational_num     0.3566      0.006     55.522      0.000       0.344       0.369\n",
       "civstatus          -0.8950      0.054    -16.438      0.000      -1.002      -0.788\n",
       "collars            -1.1962      0.081    -14.699      0.000      -1.356      -1.037\n",
       "relationship       -1.4161      0.041    -34.186      0.000      -1.497      -1.335\n",
       "race                0.0520      0.121      0.431      0.667      -0.185       0.289\n",
       "gender             -0.7388      0.036    -20.446      0.000      -0.810      -0.668\n",
       "region             -0.2785      0.136     -2.048      0.041      -0.545      -0.012\n",
       "===================================================================================\n",
       "\"\"\""
      ]
     },
     "execution_count": 981,
     "metadata": {},
     "output_type": "execute_result"
    }
   ],
   "source": [
    "ml_logit= smf.logit(\"income~age+workclass_recod+fnlwgt+educ_recod+capital_gain+capital_loss+hours_per_week+educational_num+civstatus+collars+relationship+race+gender+region\",df).fit()# para que el modelo se ajuste a los datos\n",
    "ml_logit.summary()"
   ]
  },
  {
   "cell_type": "markdown",
   "metadata": {},
   "source": [
    "Se eliminarán todos los estadísticos menores a 1,96 y p-value > 0.05:\n",
    "\n",
    "-Variables significantes para el modelo:son todas menos \"race\"\n"
   ]
  },
  {
   "cell_type": "code",
   "execution_count": 982,
   "metadata": {},
   "outputs": [
    {
     "name": "stdout",
     "output_type": "stream",
     "text": [
      "Optimization terminated successfully.\n",
      "         Current function value: 0.372073\n",
      "         Iterations 8\n"
     ]
    },
    {
     "data": {
      "text/html": [
       "<table class=\"simpletable\">\n",
       "<caption>Logit Regression Results</caption>\n",
       "<tr>\n",
       "  <th>Dep. Variable:</th>        <td>income</td>      <th>  No. Observations:  </th>  <td> 45222</td> \n",
       "</tr>\n",
       "<tr>\n",
       "  <th>Model:</th>                 <td>Logit</td>      <th>  Df Residuals:      </th>  <td> 45209</td> \n",
       "</tr>\n",
       "<tr>\n",
       "  <th>Method:</th>                 <td>MLE</td>       <th>  Df Model:          </th>  <td>    12</td> \n",
       "</tr>\n",
       "<tr>\n",
       "  <th>Date:</th>            <td>Mon, 11 Apr 2022</td> <th>  Pseudo R-squ.:     </th>  <td>0.3355</td> \n",
       "</tr>\n",
       "<tr>\n",
       "  <th>Time:</th>                <td>14:37:39</td>     <th>  Log-Likelihood:    </th> <td> -16826.</td>\n",
       "</tr>\n",
       "<tr>\n",
       "  <th>converged:</th>             <td>True</td>       <th>  LL-Null:           </th> <td> -25322.</td>\n",
       "</tr>\n",
       "<tr>\n",
       "  <th>Covariance Type:</th>     <td>nonrobust</td>    <th>  LLR p-value:       </th>  <td> 0.000</td> \n",
       "</tr>\n",
       "</table>\n",
       "<table class=\"simpletable\">\n",
       "<tr>\n",
       "         <td></td>            <th>coef</th>     <th>std err</th>      <th>z</th>      <th>P>|z|</th>  <th>[0.025</th>    <th>0.975]</th>  \n",
       "</tr>\n",
       "<tr>\n",
       "  <th>Intercept</th>       <td>   -7.8374</td> <td>    0.110</td> <td>  -71.499</td> <td> 0.000</td> <td>   -8.052</td> <td>   -7.623</td>\n",
       "</tr>\n",
       "<tr>\n",
       "  <th>age</th>             <td>    0.0430</td> <td>    0.001</td> <td>   37.987</td> <td> 0.000</td> <td>    0.041</td> <td>    0.045</td>\n",
       "</tr>\n",
       "<tr>\n",
       "  <th>workclass_recod</th> <td>    0.5285</td> <td>    0.069</td> <td>    7.661</td> <td> 0.000</td> <td>    0.393</td> <td>    0.664</td>\n",
       "</tr>\n",
       "<tr>\n",
       "  <th>fnlwgt</th>          <td> 5.694e-07</td> <td> 1.31e-07</td> <td>    4.346</td> <td> 0.000</td> <td> 3.13e-07</td> <td> 8.26e-07</td>\n",
       "</tr>\n",
       "<tr>\n",
       "  <th>educ_recod</th>      <td>    0.5158</td> <td>    0.206</td> <td>    2.504</td> <td> 0.012</td> <td>    0.112</td> <td>    0.920</td>\n",
       "</tr>\n",
       "<tr>\n",
       "  <th>capital_gain</th>    <td>    0.0003</td> <td> 8.44e-06</td> <td>   38.522</td> <td> 0.000</td> <td>    0.000</td> <td>    0.000</td>\n",
       "</tr>\n",
       "<tr>\n",
       "  <th>capital_loss</th>    <td>    0.0007</td> <td> 2.91e-05</td> <td>   23.465</td> <td> 0.000</td> <td>    0.001</td> <td>    0.001</td>\n",
       "</tr>\n",
       "<tr>\n",
       "  <th>hours_per_week</th>  <td>    0.0337</td> <td>    0.001</td> <td>   27.714</td> <td> 0.000</td> <td>    0.031</td> <td>    0.036</td>\n",
       "</tr>\n",
       "<tr>\n",
       "  <th>educational_num</th> <td>    0.3549</td> <td>    0.006</td> <td>   55.617</td> <td> 0.000</td> <td>    0.342</td> <td>    0.367</td>\n",
       "</tr>\n",
       "<tr>\n",
       "  <th>civstatus</th>       <td>   -0.8920</td> <td>    0.054</td> <td>  -16.393</td> <td> 0.000</td> <td>   -0.999</td> <td>   -0.785</td>\n",
       "</tr>\n",
       "<tr>\n",
       "  <th>collars</th>         <td>   -1.2036</td> <td>    0.081</td> <td>  -14.792</td> <td> 0.000</td> <td>   -1.363</td> <td>   -1.044</td>\n",
       "</tr>\n",
       "<tr>\n",
       "  <th>relationship</th>    <td>   -1.4130</td> <td>    0.041</td> <td>  -34.139</td> <td> 0.000</td> <td>   -1.494</td> <td>   -1.332</td>\n",
       "</tr>\n",
       "<tr>\n",
       "  <th>gender</th>          <td>   -0.7387</td> <td>    0.036</td> <td>  -20.448</td> <td> 0.000</td> <td>   -0.809</td> <td>   -0.668</td>\n",
       "</tr>\n",
       "</table>"
      ],
      "text/plain": [
       "<class 'statsmodels.iolib.summary.Summary'>\n",
       "\"\"\"\n",
       "                           Logit Regression Results                           \n",
       "==============================================================================\n",
       "Dep. Variable:                 income   No. Observations:                45222\n",
       "Model:                          Logit   Df Residuals:                    45209\n",
       "Method:                           MLE   Df Model:                           12\n",
       "Date:                Mon, 11 Apr 2022   Pseudo R-squ.:                  0.3355\n",
       "Time:                        14:37:39   Log-Likelihood:                -16826.\n",
       "converged:                       True   LL-Null:                       -25322.\n",
       "Covariance Type:            nonrobust   LLR p-value:                     0.000\n",
       "===================================================================================\n",
       "                      coef    std err          z      P>|z|      [0.025      0.975]\n",
       "-----------------------------------------------------------------------------------\n",
       "Intercept          -7.8374      0.110    -71.499      0.000      -8.052      -7.623\n",
       "age                 0.0430      0.001     37.987      0.000       0.041       0.045\n",
       "workclass_recod     0.5285      0.069      7.661      0.000       0.393       0.664\n",
       "fnlwgt           5.694e-07   1.31e-07      4.346      0.000    3.13e-07    8.26e-07\n",
       "educ_recod          0.5158      0.206      2.504      0.012       0.112       0.920\n",
       "capital_gain        0.0003   8.44e-06     38.522      0.000       0.000       0.000\n",
       "capital_loss        0.0007   2.91e-05     23.465      0.000       0.001       0.001\n",
       "hours_per_week      0.0337      0.001     27.714      0.000       0.031       0.036\n",
       "educational_num     0.3549      0.006     55.617      0.000       0.342       0.367\n",
       "civstatus          -0.8920      0.054    -16.393      0.000      -0.999      -0.785\n",
       "collars            -1.2036      0.081    -14.792      0.000      -1.363      -1.044\n",
       "relationship       -1.4130      0.041    -34.139      0.000      -1.494      -1.332\n",
       "gender             -0.7387      0.036    -20.448      0.000      -0.809      -0.668\n",
       "===================================================================================\n",
       "\"\"\""
      ]
     },
     "execution_count": 982,
     "metadata": {},
     "output_type": "execute_result"
    }
   ],
   "source": [
    "ml_logit= smf.logit(\"income~age+workclass_recod+fnlwgt+educ_recod+capital_gain+capital_loss+hours_per_week+educational_num+civstatus+collars+relationship+gender\",df).fit()# para que el modelo se ajuste a los datos\n",
    "ml_logit.summary()"
   ]
  },
  {
   "cell_type": "markdown",
   "metadata": {},
   "source": [
    "# Interpretación de los principales regresores en cada problema"
   ]
  },
  {
   "cell_type": "markdown",
   "metadata": {},
   "source": [
    "-Valor p ≤ α: La asociación es estadísticamente significativa\n",
    "\n",
    "Si el valor p es menor o igual al nivel de significación, puede concluir que existe una asociación estadísticamente significativa entre la variable de respuesta y el término. Una vez depurado el modelo se cumple que los todos p-value son menor a 0.05, tanto para variables continuas como discretas. Si un predictor continuo es significativo, se puede concluir que el coeficiente del predictor no es igual a cero, lo que se cumple para educ_recod,hours_per_week,educational_num. Pero no para capital_loss\ty capital_gain con valores aprox. 0.\n",
    "\n",
    "Si un predictor categórico es significativo, puede concluir que no todas las medias de nivel son iguales cumpliendose para: \n",
    "civstatus, collars, relationship, gender, workclass_recod.\n",
    "\n",
    "Sabemos por teoría que cuanto mayor sea la desviación R2, mejor se ajustará el modelo a sus datos. La desviación R2 siempre está entre 0% y 100%. Pseudo R-squ siempre aumentará al agregar predictores adicionales a un modelo. Para nuestro modelo solo fue eliminado un predictor \"race\" por lo que prácticamente no varió su valor, manteniendo el valor 0.34. \n"
   ]
  },
  {
   "cell_type": "markdown",
   "metadata": {},
   "source": [
    "# Cálculo mediante el coeficiente de cada variable para generar odds ratio del modelo"
   ]
  },
  {
   "cell_type": "code",
   "execution_count": 891,
   "metadata": {},
   "outputs": [
    {
     "name": "stdout",
     "output_type": "stream",
     "text": [
      "Intercept          0.000395\n",
      "age                1.043952\n",
      "workclass_recod    1.696454\n",
      "fnlwgt             1.000001\n",
      "educ_recod         1.674975\n",
      "capital_gain       1.000325\n",
      "capital_loss       1.000684\n",
      "hours_per_week     1.034284\n",
      "educational_num    1.426030\n",
      "civstatus          0.409824\n",
      "collars            0.300099\n",
      "relationship       0.243405\n",
      "gender             0.477742\n",
      "dtype: float64\n"
     ]
    }
   ],
   "source": [
    "print (np.exp(ml_logit.params))"
   ]
  },
  {
   "cell_type": "markdown",
   "metadata": {},
   "source": [
    "Comentario: Los odds ratio indican la relación que existe con respecto a la variable dependiente.Si el valor es mayor que 1, entonces indica que a medida que aumenta el predictor(variable dependiente), las probabilidades de los resultados aumentan. A la inversa, un valor menor que 1 indica que a medida que aumenta el predictor, las probabilidades de los resultados disminuyen.\n",
    "Si es 1, el predictor no tienen relación con la probabilidad de ocurrencia de la variable dependiente.\n",
    "\n",
    "De acuerdo con lo anterior, el valor 1 corresponde a las variables:age,fnlwgt, capital_gain,capital_loss,hours_per_week, los que NO afectarían la probabilidad de ocurrencia de income (mayor a 50k/1- mayor a 50k).\n",
    "\n",
    "Las variables con valores mayor a 1, es decir, variables o predictores que al incrementarse aumentan la probabilidad de ocurrencia de income: son: workclass_recod,educ_recod, educational_num.\n",
    "\n",
    "Las variables con valores menor a 1, es decir, variables o predictores que al aumentar disminuyen la probabilidad de ocurrencia de income: son: civstatus,collars,relationship, gender.     \n"
   ]
  },
  {
   "cell_type": "markdown",
   "metadata": {},
   "source": [
    "# Definición de las estrategias de Modelación predictiva"
   ]
  },
  {
   "cell_type": "markdown",
   "metadata": {},
   "source": [
    "El conjunto de pasos para una estrategia de modelación predictiva son los siguientes:\n",
    "\n",
    "1) Generar subconjuntos de entrenamiento y pruebas\n",
    "\n",
    "2) Estandarizar las matrices de atributos de entrenamiento y pruebas: mediante la estandarización transformamos las variables al restarle la media y dividirla por la varianza de la variable con esto logramos homogeneizar las variables y facilitar la comparación entre atributos en el modelo logístico.\n",
    "\n",
    "3) Importar de métricas para análisis del modelo: exactitud, precision, sensibilidad y F1. Exactitud: mide los casos correctamente predichos del total de observaciones Precisión: mide la fracción de predicciones correctas entre las etiquetas positivas Sensibilidad o Recall: mide la fracción de verdaderos positivos predichos por el modelo F1: representa la media armónica entre Precision y Recall.\n",
    "\n",
    "4) Matriz de confusión y corroboración con pd.crosstab: permite visualizar los verdaderos positivos, falsos positivos, verdadero negativo, falso negativo.\n",
    "\n",
    "5) Determinar gráficamente la curva Receiver Operator Characteristic (ROC): visualizacion grafica de la capacidad predictiva del modelo,predecir más verdaderos positivos que falsos positivos.\n",
    "\n",
    "6) Determinar área bajo de la curva la ROC: valor cuantitativo que permite determinar el desempeño del modelo predictivo."
   ]
  },
  {
   "cell_type": "markdown",
   "metadata": {},
   "source": [
    "# Hito 4"
   ]
  },
  {
   "cell_type": "markdown",
   "metadata": {},
   "source": [
    "Objetivo\n",
    "\n",
    "● Completar el punto de Modelación predictiva.\n",
    "Elementos a considerar\n",
    "● La preparación del ambiente de trabajo (imports, separación de muestras) para\n",
    "implementar modelos de predicción. (1 Punto)\n",
    "● La implementación de por lo menos tres modelos predictivos. (2 Puntos)\n",
    "● El reporte del mejor modelo predictivo en base a los resultados. (2 Puntos)\n",
    "● Entregable: Dos notebooks (uno por enunciado) con todos los puntos detallados e\n",
    "interpretados. De ser necesario, un archivo con extensión .py con todas las\n",
    "funciones implementadas."
   ]
  },
  {
   "cell_type": "code",
   "execution_count": null,
   "metadata": {},
   "outputs": [],
   "source": [
    "Una sección llamada Modelación predictiva , donde se implementará una solución\n",
    "analítica que aumente las métricas de desempeño. Se solicitan por lo menos 3\n",
    "modelos predictivos, donde deberán reportar las principales métricas. Cada modelo\n",
    "predictivo debe tener una reseña sobre el por qué se diseño de esa forma."
   ]
  },
  {
   "cell_type": "markdown",
   "metadata": {},
   "source": [
    "# Preparación del ambiente de trabajo (imports, separación de muestras) para implementar modelos de predicción. (1 Punto)"
   ]
  },
  {
   "cell_type": "markdown",
   "metadata": {},
   "source": [
    "# Modelo predictivo para modelo \"income\" sin depurar"
   ]
  },
  {
   "cell_type": "code",
   "execution_count": 983,
   "metadata": {},
   "outputs": [],
   "source": [
    "y = df.income\n",
    "X = df.drop(columns=[\"income\"])"
   ]
  },
  {
   "cell_type": "code",
   "execution_count": 984,
   "metadata": {},
   "outputs": [],
   "source": [
    "#A partir del modelo no depurado, se generará un modelo predictivo \n",
    "# Subconjuntos de entrenamiento y pruebas, separando el 33% de la muestra en el conjunto de pruebas.\n",
    "\n",
    "from sklearn.linear_model import LogisticRegression\n",
    "from sklearn.model_selection import train_test_split\n",
    "X_train, X_test, y_train, y_test = train_test_split(X,y,test_size= .33 , random_state= 11238)"
   ]
  },
  {
   "cell_type": "code",
   "execution_count": 985,
   "metadata": {},
   "outputs": [
    {
     "data": {
      "text/plain": [
       "(30298, 14)"
      ]
     },
     "execution_count": 985,
     "metadata": {},
     "output_type": "execute_result"
    }
   ],
   "source": [
    "X_train.shape"
   ]
  },
  {
   "cell_type": "code",
   "execution_count": 986,
   "metadata": {},
   "outputs": [
    {
     "data": {
      "text/plain": [
       "(14924, 14)"
      ]
     },
     "execution_count": 986,
     "metadata": {},
     "output_type": "execute_result"
    }
   ],
   "source": [
    "X_test.shape"
   ]
  },
  {
   "cell_type": "code",
   "execution_count": 987,
   "metadata": {},
   "outputs": [
    {
     "data": {
      "text/plain": [
       "(30298,)"
      ]
     },
     "execution_count": 987,
     "metadata": {},
     "output_type": "execute_result"
    }
   ],
   "source": [
    "y_train.shape"
   ]
  },
  {
   "cell_type": "code",
   "execution_count": 988,
   "metadata": {},
   "outputs": [
    {
     "data": {
      "text/plain": [
       "(14924,)"
      ]
     },
     "execution_count": 988,
     "metadata": {},
     "output_type": "execute_result"
    }
   ],
   "source": [
    "y_test.shape"
   ]
  },
  {
   "cell_type": "code",
   "execution_count": 912,
   "metadata": {},
   "outputs": [],
   "source": [
    "df.region = df.region.astype(np.int64)"
   ]
  },
  {
   "cell_type": "code",
   "execution_count": 989,
   "metadata": {},
   "outputs": [
    {
     "name": "stdout",
     "output_type": "stream",
     "text": [
      "<class 'pandas.core.frame.DataFrame'>\n",
      "Int64Index: 45222 entries, 0 to 48841\n",
      "Data columns (total 15 columns):\n",
      " #   Column           Non-Null Count  Dtype\n",
      "---  ------           --------------  -----\n",
      " 0   age              45222 non-null  int64\n",
      " 1   workclass_recod  45222 non-null  uint8\n",
      " 2   fnlwgt           45222 non-null  int64\n",
      " 3   educ_recod       45222 non-null  uint8\n",
      " 4   educational_num  45222 non-null  int64\n",
      " 5   civstatus        45222 non-null  uint8\n",
      " 6   collars          45222 non-null  uint8\n",
      " 7   relationship     45222 non-null  uint8\n",
      " 8   race             45222 non-null  uint8\n",
      " 9   gender           45222 non-null  int32\n",
      " 10  capital_gain     45222 non-null  int64\n",
      " 11  capital_loss     45222 non-null  int64\n",
      " 12  hours_per_week   45222 non-null  int64\n",
      " 13  region           45222 non-null  uint8\n",
      " 14  income           45222 non-null  int32\n",
      "dtypes: int32(2), int64(6), uint8(7)\n",
      "memory usage: 3.1 MB\n"
     ]
    }
   ],
   "source": [
    "df.info()"
   ]
  },
  {
   "cell_type": "code",
   "execution_count": 990,
   "metadata": {},
   "outputs": [],
   "source": [
    "# ● Estandarice las matrices de atributos de entrenamiento y pruebas usando\n",
    "# StandardScaler() ajustado solo sobre el conjunto de entrenamiento.\n",
    "\n",
    "#Estandarizamos cada atributo en nuestras muestras mediante StandardScaler en el módulo sklearn.preprocessing . \n",
    "#Mediante la estandarización transformamos las variables al restarle la media y dividirla por la varianza de la variable.\n",
    "#Con esto logramos homogeneizar las variables y facilitar la comparación entre atributos en el modelo logístico.\n",
    "from sklearn.preprocessing import StandardScaler\n",
    "\n",
    "# estandarizamos la matriz de entrenamiento\n",
    "X_train_std = StandardScaler().fit_transform(X_train)\n",
    "\n",
    "# estandarizamos la matriz de prueba\n",
    "X_test_std = StandardScaler().fit_transform(X_test)\n",
    "\n",
    "# iniciamos el modelo con la clase LogisticRegression y pasamos los datos en fit.\n",
    "new_model = LogisticRegression().fit(X_train_std, y_train)"
   ]
  },
  {
   "cell_type": "code",
   "execution_count": 991,
   "metadata": {},
   "outputs": [
    {
     "data": {
      "text/plain": [
       "array([0, 0, 0, 0, 0, 0, 1, 0, 0, 1, 0, 0, 0, 0, 0, 0, 0, 0, 0, 0, 0, 1,\n",
       "       0, 0, 0, 0, 0, 0, 0, 1, 0, 1, 0, 0, 1, 0, 0, 0, 0, 1, 0, 0, 0, 0,\n",
       "       0, 0, 0, 0, 0, 1, 0, 0, 1, 0, 1, 0, 0, 0, 0, 0, 0, 0, 0, 0, 1, 0,\n",
       "       0, 1, 0, 0, 0, 0, 0, 0, 0, 0, 1, 0, 0, 0, 1, 1, 0, 1, 0, 0, 1, 0,\n",
       "       0, 0, 0, 0, 0, 0, 0, 0, 1, 1, 0, 0])"
      ]
     },
     "execution_count": 991,
     "metadata": {},
     "output_type": "execute_result"
    }
   ],
   "source": [
    "# ● Predicción de las clases y de la probabilidad.\n",
    "\n",
    "# Predicciones para el conjunto de datos\n",
    "\n",
    "yhat = new_model.predict(X_test_std)\n",
    "\n",
    "yhat[:100]"
   ]
  },
  {
   "cell_type": "markdown",
   "metadata": {},
   "source": [
    "# Reporte del modelo predictivo en base a los resultados Modelo sin depurar"
   ]
  },
  {
   "cell_type": "code",
   "execution_count": 992,
   "metadata": {},
   "outputs": [
    {
     "data": {
      "text/plain": [
       "0.8264540337711069"
      ]
     },
     "execution_count": 992,
     "metadata": {},
     "output_type": "execute_result"
    }
   ],
   "source": [
    "# Nivel de exactitud\n",
    "accuracy = accuracy_score(y_test,yhat)\n",
    "accuracy"
   ]
  },
  {
   "cell_type": "code",
   "execution_count": 993,
   "metadata": {},
   "outputs": [
    {
     "data": {
      "text/plain": [
       "0.7282521947326417"
      ]
     },
     "execution_count": 993,
     "metadata": {},
     "output_type": "execute_result"
    }
   ],
   "source": [
    "# NIVEL DE PRECISION\n",
    "precision_model = precision_score(y_test,yhat)\n",
    "precision_model"
   ]
  },
  {
   "cell_type": "code",
   "execution_count": 994,
   "metadata": {},
   "outputs": [
    {
     "data": {
      "text/plain": [
       "0.48875200856989826"
      ]
     },
     "execution_count": 994,
     "metadata": {},
     "output_type": "execute_result"
    }
   ],
   "source": [
    "#Valor de recall \n",
    "recall_model = recall_score(y_test, yhat)\n",
    "recall_model"
   ]
  },
  {
   "cell_type": "code",
   "execution_count": 995,
   "metadata": {},
   "outputs": [
    {
     "data": {
      "text/plain": [
       "0.5849358974358975"
      ]
     },
     "execution_count": 995,
     "metadata": {},
     "output_type": "execute_result"
    }
   ],
   "source": [
    "#F1-score\n",
    "F1_model = f1_score(y_test, yhat)\n",
    "F1_model"
   ]
  },
  {
   "cell_type": "code",
   "execution_count": 996,
   "metadata": {},
   "outputs": [
    {
     "data": {
      "text/plain": [
       "array([[10509,   681],\n",
       "       [ 1909,  1825]], dtype=int64)"
      ]
     },
     "execution_count": 996,
     "metadata": {},
     "output_type": "execute_result"
    }
   ],
   "source": [
    "m1_confusion = confusion_matrix(y_test, yhat)\n",
    "m1_confusion"
   ]
  },
  {
   "cell_type": "code",
   "execution_count": 997,
   "metadata": {},
   "outputs": [
    {
     "data": {
      "text/html": [
       "<div>\n",
       "<style scoped>\n",
       "    .dataframe tbody tr th:only-of-type {\n",
       "        vertical-align: middle;\n",
       "    }\n",
       "\n",
       "    .dataframe tbody tr th {\n",
       "        vertical-align: top;\n",
       "    }\n",
       "\n",
       "    .dataframe thead th {\n",
       "        text-align: right;\n",
       "    }\n",
       "</style>\n",
       "<table border=\"1\" class=\"dataframe\">\n",
       "  <thead>\n",
       "    <tr style=\"text-align: right;\">\n",
       "      <th>col_0</th>\n",
       "      <th>0</th>\n",
       "      <th>1</th>\n",
       "    </tr>\n",
       "    <tr>\n",
       "      <th>income</th>\n",
       "      <th></th>\n",
       "      <th></th>\n",
       "    </tr>\n",
       "  </thead>\n",
       "  <tbody>\n",
       "    <tr>\n",
       "      <th>0</th>\n",
       "      <td>10509</td>\n",
       "      <td>681</td>\n",
       "    </tr>\n",
       "    <tr>\n",
       "      <th>1</th>\n",
       "      <td>1909</td>\n",
       "      <td>1825</td>\n",
       "    </tr>\n",
       "  </tbody>\n",
       "</table>\n",
       "</div>"
      ],
      "text/plain": [
       "col_0       0     1\n",
       "income             \n",
       "0       10509   681\n",
       "1        1909  1825"
      ]
     },
     "execution_count": 997,
     "metadata": {},
     "output_type": "execute_result"
    }
   ],
   "source": [
    "# comparemos con pd.crosstab\n",
    "m1_conf_pd = pd.crosstab(y_test, yhat)\n",
    "m1_conf_pd"
   ]
  },
  {
   "cell_type": "code",
   "execution_count": 998,
   "metadata": {},
   "outputs": [],
   "source": [
    "# Curva ROC de modelo no depurado\n",
    "#reestimamos los valores predichos de nuestro modelo para obtener laprobabilidad entre 0 y 1.\n",
    "yhat_predic_proba = new_model.predict_proba(X_test_std)[:, 1 ]"
   ]
  },
  {
   "cell_type": "code",
   "execution_count": 1000,
   "metadata": {},
   "outputs": [],
   "source": [
    "# generamos los objetos de roc_cruve\n",
    "false_positive, true_positive, threshold = roc_curve(y_test, yhat_predic_proba)"
   ]
  },
  {
   "cell_type": "code",
   "execution_count": 1001,
   "metadata": {},
   "outputs": [
    {
     "data": {
      "image/png": "[encoded data removed]",
      "text/plain": [
       "<Figure size 432x288 with 1 Axes>"
      ]
     },
     "metadata": {},
     "output_type": "display_data"
    }
   ],
   "source": [
    "# Plot ROC curve\n",
    "plt.title( 'Curva ROC' )\n",
    "plt.plot(false_positive, true_positive, lw= 1 )#posicion x, y\n",
    "plt.plot([ 0 , 1 ], ls= \"--\" , lw= 1 ) # bisectriz\n",
    "plt.plot([ 0 , 0 ], [ 1 , 0 ] , c= 'limegreen' , lw= 3 ), plt.plot([ 1 , 1 ] ,c= 'limegreen' , lw= 3 )\n",
    "plt.ylabel( 'Verdaderos Positivos' )\n",
    "plt.xlabel( 'Falsos Positivos' );"
   ]
  },
  {
   "cell_type": "code",
   "execution_count": 1002,
   "metadata": {},
   "outputs": [
    {
     "data": {
      "text/plain": [
       "0.7139470498613566"
      ]
     },
     "execution_count": 1002,
     "metadata": {},
     "output_type": "execute_result"
    }
   ],
   "source": [
    "#Para área debajo de la curva utilizamos el método roc_auc_score en el módulo\n",
    "#metrics de sklearn . De manera similar a las implementaciones de métricas previas con\n",
    "#sklearn , el método solicita el vector objetivo verdadero ( y_test ) y nuestras predicciones\n",
    "#en base al modelo ( yhat ).\n",
    "roc_auc_score(y_test, yhat)"
   ]
  },
  {
   "cell_type": "markdown",
   "metadata": {},
   "source": [
    "# Modelo Predictivo Depurado 1"
   ]
  },
  {
   "cell_type": "code",
   "execution_count": 1062,
   "metadata": {},
   "outputs": [],
   "source": [
    "y_1 = df.income\n",
    "X_1 = df.drop(columns=[\"income\", \"race\"])"
   ]
  },
  {
   "cell_type": "code",
   "execution_count": 1063,
   "metadata": {},
   "outputs": [],
   "source": [
    "X_train_1, X_test_1, y_train_1, y_test_1 = train_test_split(X_1,y_1,test_size= .33 , random_state= 11238)"
   ]
  },
  {
   "cell_type": "code",
   "execution_count": 1068,
   "metadata": {},
   "outputs": [],
   "source": [
    "# ● Estandarice las matrices de atributos de entrenamiento y pruebas usando\n",
    "# StandardScaler() ajustado solo sobre el conjunto de entrenamiento.\n",
    "\n",
    "#Estandarizamos cada atributo en nuestras muestras mediante StandardScaler en el módulo sklearn.preprocessing . \n",
    "#Mediante la estandarización transformamos las variables al restarle la media y dividirla por la varianza de la variable.\n",
    "#Con esto logramos homogeneizar las variables y facilitar la comparación entre atributos en el modelo logístico.\n",
    "from sklearn.preprocessing import StandardScaler\n",
    "\n",
    "# estandarizamos la matriz de entrenamiento\n",
    "X_train_std_1 = StandardScaler().fit_transform(X_train_1)\n",
    "\n",
    "# estandarizamos la matriz de prueba\n",
    "X_test_std_1 = StandardScaler().fit_transform(X_test_1)\n",
    "\n",
    "# iniciamos el modelo con la clase LogisticRegression y pasamos los datos en fit.\n",
    "new_model_1 = LogisticRegression().fit(X_train_std_1, y_train_1)"
   ]
  },
  {
   "cell_type": "code",
   "execution_count": 1069,
   "metadata": {},
   "outputs": [
    {
     "data": {
      "text/plain": [
       "array([0, 0, 0, 0, 0, 0, 1, 0, 0, 1, 0, 0, 0, 0, 0, 0, 0, 0, 0, 0, 0, 1,\n",
       "       0, 0, 0, 0, 0, 0, 0, 1, 0, 1, 0, 0, 1, 0, 0, 0, 0, 1, 0, 0, 0, 0,\n",
       "       0, 0, 0, 0, 0, 1, 0, 0, 1, 0, 1, 0, 0, 0, 0, 0, 0, 0, 0, 0, 1, 0,\n",
       "       0, 1, 0, 0, 0, 0, 0, 0, 0, 0, 1, 0, 0, 0, 1, 1, 0, 1, 0, 0, 1, 0,\n",
       "       0, 0, 0, 0, 0, 0, 0, 0, 1, 1, 0, 0])"
      ]
     },
     "execution_count": 1069,
     "metadata": {},
     "output_type": "execute_result"
    }
   ],
   "source": [
    "# ● Predicción de las clases y de la probabilidad.\n",
    "\n",
    "# Predicciones para el conjunto de datos\n",
    "\n",
    "yhat_1 = new_model_1.predict(X_test_std_1)\n",
    "\n",
    "yhat_1[:100]"
   ]
  },
  {
   "cell_type": "markdown",
   "metadata": {},
   "source": [
    "# Reporte del modelo predictivo en base a los resultados, Modelo depurado 1"
   ]
  },
  {
   "cell_type": "code",
   "execution_count": 1101,
   "metadata": {},
   "outputs": [
    {
     "data": {
      "text/plain": [
       "0.8264540337711069"
      ]
     },
     "execution_count": 1101,
     "metadata": {},
     "output_type": "execute_result"
    }
   ],
   "source": [
    "# Nivel de exactitud\n",
    "accuracy = accuracy_score(y_test_1,yhat_1)\n",
    "accuracy"
   ]
  },
  {
   "cell_type": "code",
   "execution_count": 1071,
   "metadata": {},
   "outputs": [
    {
     "data": {
      "text/plain": [
       "0.7282521947326417"
      ]
     },
     "execution_count": 1071,
     "metadata": {},
     "output_type": "execute_result"
    }
   ],
   "source": [
    "# NIVEL DE PRECISION\n",
    "precision_model = precision_score(y_test_1,yhat_1)\n",
    "precision_model"
   ]
  },
  {
   "cell_type": "code",
   "execution_count": 1072,
   "metadata": {},
   "outputs": [
    {
     "data": {
      "text/plain": [
       "0.48875200856989826"
      ]
     },
     "execution_count": 1072,
     "metadata": {},
     "output_type": "execute_result"
    }
   ],
   "source": [
    "#Valor de recall \n",
    "recall_model = recall_score(y_test_1, yhat_1)\n",
    "recall_model"
   ]
  },
  {
   "cell_type": "code",
   "execution_count": 1094,
   "metadata": {},
   "outputs": [
    {
     "data": {
      "text/plain": [
       "0.5849358974358975"
      ]
     },
     "execution_count": 1094,
     "metadata": {},
     "output_type": "execute_result"
    }
   ],
   "source": [
    "#F1-score\n",
    "F1_model = f1_score(y_test_1, yhat_1)\n",
    "F1_model"
   ]
  },
  {
   "cell_type": "code",
   "execution_count": 1074,
   "metadata": {},
   "outputs": [
    {
     "data": {
      "text/html": [
       "<div>\n",
       "<style scoped>\n",
       "    .dataframe tbody tr th:only-of-type {\n",
       "        vertical-align: middle;\n",
       "    }\n",
       "\n",
       "    .dataframe tbody tr th {\n",
       "        vertical-align: top;\n",
       "    }\n",
       "\n",
       "    .dataframe thead th {\n",
       "        text-align: right;\n",
       "    }\n",
       "</style>\n",
       "<table border=\"1\" class=\"dataframe\">\n",
       "  <thead>\n",
       "    <tr style=\"text-align: right;\">\n",
       "      <th>col_0</th>\n",
       "      <th>0</th>\n",
       "      <th>1</th>\n",
       "    </tr>\n",
       "    <tr>\n",
       "      <th>income</th>\n",
       "      <th></th>\n",
       "      <th></th>\n",
       "    </tr>\n",
       "  </thead>\n",
       "  <tbody>\n",
       "    <tr>\n",
       "      <th>0</th>\n",
       "      <td>10509</td>\n",
       "      <td>681</td>\n",
       "    </tr>\n",
       "    <tr>\n",
       "      <th>1</th>\n",
       "      <td>1909</td>\n",
       "      <td>1825</td>\n",
       "    </tr>\n",
       "  </tbody>\n",
       "</table>\n",
       "</div>"
      ],
      "text/plain": [
       "col_0       0     1\n",
       "income             \n",
       "0       10509   681\n",
       "1        1909  1825"
      ]
     },
     "execution_count": 1074,
     "metadata": {},
     "output_type": "execute_result"
    }
   ],
   "source": [
    "# comparemos con pd.crosstab\n",
    "m1_conf_pd = pd.crosstab(y_test_1, yhat_1)\n",
    "m1_conf_pd"
   ]
  },
  {
   "cell_type": "code",
   "execution_count": 1075,
   "metadata": {},
   "outputs": [],
   "source": [
    "# Curva ROC de modelo no depurado\n",
    "#reestimamos los valores predichos de nuestro modelo para obtener laprobabilidad entre 0 y 1.\n",
    "yhat_predic_proba = new_model_1.predict_proba(X_test_std_1)[:, 1 ]"
   ]
  },
  {
   "cell_type": "code",
   "execution_count": 1090,
   "metadata": {},
   "outputs": [],
   "source": [
    "# generamos los objetos de roc_cruve\n",
    "false_positive, true_positive, threshold = roc_curve(y_test_1, yhat_predic_proba)"
   ]
  },
  {
   "cell_type": "code",
   "execution_count": 1091,
   "metadata": {},
   "outputs": [
    {
     "data": {
      "image/png": "[encoded data removed]",
      "text/plain": [
       "<Figure size 432x288 with 1 Axes>"
      ]
     },
     "metadata": {},
     "output_type": "display_data"
    }
   ],
   "source": [
    "# Plot ROC curve\n",
    "plt.title( 'Curva ROC' )\n",
    "plt.plot(false_positive, true_positive, lw= 1 )#posicion x, y\n",
    "plt.plot([ 0 , 1 ], ls= \"--\" , lw= 1 ) # bisectriz\n",
    "plt.plot([ 0 , 0 ], [ 1 , 0 ] , c= 'limegreen' , lw= 3 ), plt.plot([ 1 , 1 ] ,c= 'limegreen' , lw= 3 )\n",
    "plt.ylabel( 'Verdaderos Positivos' )\n",
    "plt.xlabel( 'Falsos Positivos' );"
   ]
  },
  {
   "cell_type": "code",
   "execution_count": 1092,
   "metadata": {},
   "outputs": [
    {
     "data": {
      "text/plain": [
       "0.7139470498613566"
      ]
     },
     "execution_count": 1092,
     "metadata": {},
     "output_type": "execute_result"
    }
   ],
   "source": [
    "#Para área debajo de la curva utilizamos el método roc_auc_score en el módulo\n",
    "#metrics de sklearn . De manera similar a las implementaciones de métricas previas con\n",
    "#sklearn , el método solicita el vector objetivo verdadero ( y_test ) y nuestras predicciones\n",
    "#en base al modelo ( yhat ).\n",
    "roc_auc_score(y_test_1, yhat_1)"
   ]
  },
  {
   "cell_type": "markdown",
   "metadata": {},
   "source": [
    "# Modelo Predictivo Depurado 2"
   ]
  },
  {
   "cell_type": "code",
   "execution_count": 1081,
   "metadata": {},
   "outputs": [],
   "source": [
    "y_2 = df.income\n",
    "X_2 = df.drop(columns=[\"income\",\"race\",\"fnlwgt\",\"capital_gain\",\"capital_loss\",\"hours_per_week\"])"
   ]
  },
  {
   "cell_type": "code",
   "execution_count": 1082,
   "metadata": {},
   "outputs": [],
   "source": [
    "X_train_2, X_test_2, y_train_2, y_test_2 = train_test_split(X_2,y_2,test_size= .33 , random_state= 11238)"
   ]
  },
  {
   "cell_type": "code",
   "execution_count": 1083,
   "metadata": {},
   "outputs": [],
   "source": [
    "# ● Estandarice las matrices de atributos de entrenamiento y pruebas usando\n",
    "# StandardScaler() ajustado solo sobre el conjunto de entrenamiento.\n",
    "\n",
    "#Estandarizamos cada atributo en nuestras muestras mediante StandardScaler en el módulo sklearn.preprocessing . \n",
    "#Mediante la estandarización transformamos las variables al restarle la media y dividirla por la varianza de la variable.\n",
    "#Con esto logramos homogeneizar las variables y facilitar la comparación entre atributos en el modelo logístico.\n",
    "from sklearn.preprocessing import StandardScaler\n",
    "\n",
    "# estandarizamos la matriz de entrenamiento\n",
    "X_train_std_2 = StandardScaler().fit_transform(X_train_2)\n",
    "\n",
    "# estandarizamos la matriz de prueba\n",
    "X_test_std_2 = StandardScaler().fit_transform(X_test_2)\n",
    "\n",
    "# iniciamos el modelo con la clase LogisticRegression y pasamos los datos en fit.\n",
    "new_model_2 = LogisticRegression().fit(X_train_std_2, y_train_2)"
   ]
  },
  {
   "cell_type": "code",
   "execution_count": 1087,
   "metadata": {},
   "outputs": [
    {
     "data": {
      "text/plain": [
       "array([0, 0, 0, 0, 0, 0, 1, 0, 0, 0, 0, 0, 0, 0, 0, 0, 0, 0, 0, 0, 0, 1,\n",
       "       0, 0, 0, 0, 0, 0, 0, 1, 0, 1, 0, 0, 1, 0, 0, 0, 0, 0, 0, 0, 0, 0,\n",
       "       0, 0, 0, 0, 0, 1, 0, 0, 1, 0, 0, 1, 0, 0, 0, 0, 0, 0, 0, 0, 1, 0,\n",
       "       0, 0, 0, 0, 0, 0, 0, 1, 0, 0, 0, 0, 0, 0, 0, 1, 0, 1, 0, 0, 1, 0,\n",
       "       0, 0, 0, 0, 0, 0, 0, 0, 1, 0, 0, 0])"
      ]
     },
     "execution_count": 1087,
     "metadata": {},
     "output_type": "execute_result"
    }
   ],
   "source": [
    "# ● Predicción de las clases y de la probabilidad.\n",
    "\n",
    "# Predicciones para el conjunto de datos\n",
    "\n",
    "yhat_2 = new_model_2.predict(X_test_std_2)\n",
    "\n",
    "yhat_2[:100]"
   ]
  },
  {
   "cell_type": "markdown",
   "metadata": {},
   "source": [
    "# Reporte del modelo predictivo en base a los resultados,                                Modelo depurado 2"
   ]
  },
  {
   "cell_type": "code",
   "execution_count": 1088,
   "metadata": {},
   "outputs": [
    {
     "data": {
      "text/plain": [
       "0.7996515679442509"
      ]
     },
     "execution_count": 1088,
     "metadata": {},
     "output_type": "execute_result"
    }
   ],
   "source": [
    "# Nivel de exactitud\n",
    "accuracy = accuracy_score(y_test_2,yhat_2)\n",
    "accuracy"
   ]
  },
  {
   "cell_type": "code",
   "execution_count": 1089,
   "metadata": {},
   "outputs": [
    {
     "data": {
      "text/plain": [
       "0.6582978723404256"
      ]
     },
     "execution_count": 1089,
     "metadata": {},
     "output_type": "execute_result"
    }
   ],
   "source": [
    "# NIVEL DE PRECISION\n",
    "precision_model = precision_score(y_test_2,yhat_2)\n",
    "precision_model"
   ]
  },
  {
   "cell_type": "code",
   "execution_count": 1093,
   "metadata": {},
   "outputs": [
    {
     "data": {
      "text/plain": [
       "0.4143010176754151"
      ]
     },
     "execution_count": 1093,
     "metadata": {},
     "output_type": "execute_result"
    }
   ],
   "source": [
    "#Valor de recall \n",
    "recall_model = recall_score(y_test_2, yhat_2)\n",
    "recall_model"
   ]
  },
  {
   "cell_type": "code",
   "execution_count": 1095,
   "metadata": {},
   "outputs": [
    {
     "data": {
      "text/plain": [
       "0.5085470085470085"
      ]
     },
     "execution_count": 1095,
     "metadata": {},
     "output_type": "execute_result"
    }
   ],
   "source": [
    "#F1-score\n",
    "F1_model = f1_score(y_test_2, yhat_2)\n",
    "F1_model"
   ]
  },
  {
   "cell_type": "code",
   "execution_count": 1096,
   "metadata": {},
   "outputs": [
    {
     "data": {
      "text/html": [
       "<div>\n",
       "<style scoped>\n",
       "    .dataframe tbody tr th:only-of-type {\n",
       "        vertical-align: middle;\n",
       "    }\n",
       "\n",
       "    .dataframe tbody tr th {\n",
       "        vertical-align: top;\n",
       "    }\n",
       "\n",
       "    .dataframe thead th {\n",
       "        text-align: right;\n",
       "    }\n",
       "</style>\n",
       "<table border=\"1\" class=\"dataframe\">\n",
       "  <thead>\n",
       "    <tr style=\"text-align: right;\">\n",
       "      <th>col_0</th>\n",
       "      <th>0</th>\n",
       "      <th>1</th>\n",
       "    </tr>\n",
       "    <tr>\n",
       "      <th>income</th>\n",
       "      <th></th>\n",
       "      <th></th>\n",
       "    </tr>\n",
       "  </thead>\n",
       "  <tbody>\n",
       "    <tr>\n",
       "      <th>0</th>\n",
       "      <td>10387</td>\n",
       "      <td>803</td>\n",
       "    </tr>\n",
       "    <tr>\n",
       "      <th>1</th>\n",
       "      <td>2187</td>\n",
       "      <td>1547</td>\n",
       "    </tr>\n",
       "  </tbody>\n",
       "</table>\n",
       "</div>"
      ],
      "text/plain": [
       "col_0       0     1\n",
       "income             \n",
       "0       10387   803\n",
       "1        2187  1547"
      ]
     },
     "execution_count": 1096,
     "metadata": {},
     "output_type": "execute_result"
    }
   ],
   "source": [
    "# comparemos con pd.crosstab\n",
    "m1_conf_pd = pd.crosstab(y_test_2, yhat_2)\n",
    "m1_conf_pd"
   ]
  },
  {
   "cell_type": "code",
   "execution_count": 1097,
   "metadata": {},
   "outputs": [],
   "source": [
    "# Curva ROC de modelo no depurado\n",
    "#reestimamos los valores predichos de nuestro modelo para obtener laprobabilidad entre 0 y 1.\n",
    "yhat_predic_proba = new_model_2.predict_proba(X_test_std_2)[:, 1 ]"
   ]
  },
  {
   "cell_type": "code",
   "execution_count": 1098,
   "metadata": {},
   "outputs": [],
   "source": [
    "# generamos los objetos de roc_cruve\n",
    "false_positive, true_positive, threshold = roc_curve(y_test_2, yhat_predic_proba)"
   ]
  },
  {
   "cell_type": "code",
   "execution_count": 1099,
   "metadata": {},
   "outputs": [
    {
     "data": {
      "image/png": "[encoded data removed]",
      "text/plain": [
       "<Figure size 432x288 with 1 Axes>"
      ]
     },
     "metadata": {},
     "output_type": "display_data"
    }
   ],
   "source": [
    "# Plot ROC curve\n",
    "plt.title( 'Curva ROC' )\n",
    "plt.plot(false_positive, true_positive, lw= 1 )#posicion x, y\n",
    "plt.plot([ 0 , 1 ], ls= \"--\" , lw= 1 ) # bisectriz\n",
    "plt.plot([ 0 , 0 ], [ 1 , 0 ] , c= 'limegreen' , lw= 3 ), plt.plot([ 1 , 1 ] ,c= 'limegreen' , lw= 3 )\n",
    "plt.ylabel( 'Verdaderos Positivos' )\n",
    "plt.xlabel( 'Falsos Positivos' );"
   ]
  },
  {
   "cell_type": "code",
   "execution_count": 1100,
   "metadata": {},
   "outputs": [
    {
     "data": {
      "text/plain": [
       "0.6712702586142938"
      ]
     },
     "execution_count": 1100,
     "metadata": {},
     "output_type": "execute_result"
    }
   ],
   "source": [
    "#Para área bajo de la curva utilizamos el método roc_auc_score en el módulo\n",
    "#metrics de sklearn . De manera similar a las implementaciones de métricas previas con\n",
    "#sklearn , el método solicita el vector objetivo verdadero ( y_test ) y nuestras predicciones\n",
    "#en base al modelo ( yhat ).\n",
    "roc_auc_score(y_test_2, yhat_2)"
   ]
  },
  {
   "cell_type": "markdown",
   "metadata": {},
   "source": [
    "# Discusión de las metricas obtenidas para cada modelo."
   ]
  },
  {
   "cell_type": "markdown",
   "metadata": {},
   "source": [
    "Resumen de los modelos predictivos propuestos:\n",
    "\n",
    "*Modelo sin depurar = todos los atributos del df original\n",
    "*Modelo depurado 1  = solo atributos significativos \n",
    "*Modelo depurado 2  = eliminación de atributos mediante el odds ratio + variable no significativa.\n",
    "\n",
    "     Modelo            Exactitud  Precisión  Recall    F1   Área bajo la curva\n",
    "\n",
    "1) Modelo sin depurar     0.83       0.73     0.49    0.58      0.71\n",
    "2) Modelo depurado 1      0.83       0.73     0.49    0.58      0.71\n",
    "3) Modelo depurado 2      0.80       0.66     0.41    0.51      0.67\n",
    "\n",
    "\n",
    "-La exactitud reportada para el modelo sin depurar y el depurado 1 sugiere una muy buena exactitud de nuestro modelo, ambas con valor de 0.83. Nuestra medida de exactitud informa que el modelo tiene un desempeño con un 33% superior que una predicción azarosa.  Cuando se realizó la eliminación de odds ratio que no interfieren sobre la probabilidad de ocurrencia, el valor disminuyó a 0.8, una disminución del 3% en principio no significante. Resulta que la medida de exactitud por sí sola es engañosa, dado que no hace distinción alguna frente a errores de tipo Falso Negativo y Falso Positivo. Para ello se utilizarán dos medidas extras: \n",
    "● Precisión: mide la fracción de predicciones correctas entre las etiquetas positivas.\n",
    "● Recall (o sensibilidad) : mide la fracción de verdaderos positivos predichos por el modelo.\n",
    "\n",
    "-Los puntajes de precisión y recall para el modelo sin depurar y el depurado 1, sugieren que el modelo tiene un desempeño relativamente aceptable, con buen valor de precisión de 0.73 para ambos. Mientras que la proporción de positivos reales identificados correctamente alcanza un valor de 0,49(ambos casos). Para el modelo depurado 2 este valor es mucho menor alcanzando un 0.66 y 0.41 para Recall. Existe un trueque entre Precision y Recall, medida que se conoce como F1, y representa la media armónica entre Precision y Recall.\n",
    "\n",
    "\n",
    "-F1 alcanza un máximo de 1 cuando Precision y Recall son 1, y 0 cuando Precision o Recall son 0, aún cuando una de las dos medidas sea 1. Al comparar el rendimiento combinado de la precisión y la exhaustividad se obtiene un valor de 0.58, para los primeros dos modelos, mientras que el modelo depurado 2 un 0.51. Aquí es posible observar que al disminuir tanto la precisión como Recall inevitablemente disminuirá F1, lo que se ve reflejado en una menor cantidad de atributos y con ello una menor cantidad de observaciones finales.\n",
    "\n",
    "\n",
    "-A primera vista un modelo con una capacidad predictiva adecuada debe presentar una curva por sobre la bisectriz, la cual indica la tasa de clasificación aleatoria. Sabemos que el comportamiento deseado de la curva ROC es que tienda a acercarse a la esquina superior izquierda del gráfico, demarcada con verde(presente en todos los gráficos). Para los dos primeros modelos podemos decir que el área bajo la curva se encuentra un 21% sobre la aleatoridad,  mientras que para el modelo depurado 2, disminuye hasta un 17%. Lo anterior se sustenta en que al disminuir la cantidad de datos tambien disminuyó la cantidad los verdaderos positivos acercandose la curva a la bisectriz en un 5%. Finalmente, sabemos que a mayores valores de área bajo la curva, mejor  será el desempeño del modelo para predecir más verdaderos positivos que falsos positivos."
   ]
  }
 ],
 "metadata": {
  "kernelspec": {
   "display_name": "Python 3 (ipykernel)",
   "language": "python",
   "name": "python3"
  },
  "language_info": {
   "codemirror_mode": {
    "name": "ipython",
    "version": 3
   },
   "file_extension": ".py",
   "mimetype": "text/x-python",
   "name": "python",
   "nbconvert_exporter": "python",
   "pygments_lexer": "ipython3",
   "version": "3.10.9"
  }
 },
 "nbformat": 4,
 "nbformat_minor": 4
}
